{
 "cells": [
  {
   "cell_type": "code",
   "execution_count": 4,
   "metadata": {
    "collapsed": true
   },
   "outputs": [],
   "source": [
    "# Original code is from https://github.com/spro/practical-pytorch\n",
    "import time\n",
    "import math\n",
    "import torch\n",
    "import torch.nn as nn\n",
    "from torch.autograd import Variable\n",
    "from torch.utils.data import DataLoader\n",
    "\n",
    "from name_dataset import NameDataset\n",
    "from torch.nn.utils.rnn import pack_padded_sequence, pad_packed_sequence"
   ]
  },
  {
   "cell_type": "markdown",
   "metadata": {},
   "source": [
    "RNN uses previous output as input"
   ]
  },
  {
   "cell_type": "code",
   "execution_count": 5,
   "metadata": {
    "collapsed": true
   },
   "outputs": [],
   "source": [
    "# Parameters and DataLoaders\n",
    "HIDDEN_SIZE = 100\n",
    "N_CHARS = 128  # ASCII\n",
    "N_CLASSES = 18"
   ]
  },
  {
   "cell_type": "markdown",
   "metadata": {},
   "source": [
    "(input_size, hidden_size aka output, batch_first for ordering)\n",
    "nn.RNN GRU LSTM"
   ]
  },
  {
   "cell_type": "code",
   "execution_count": 6,
   "metadata": {},
   "outputs": [],
   "source": [
    "class RNNClassifier(nn.Module):\n",
    "\n",
    "    def __init__(self, input_size, hidden_size, output_size, n_layers=1):\n",
    "        super(RNNClassifier, self).__init__()\n",
    "        self.hidden_size = hidden_size\n",
    "        self.n_layers = n_layers\n",
    "\n",
    "        self.embedding = nn.Embedding(input_size, hidden_size)\n",
    "        self.gru = nn.GRU(hidden_size, hidden_size, n_layers)\n",
    "        self.fc = nn.Linear(hidden_size, output_size)\n",
    "\n",
    "    def forward(self, input):\n",
    "        # Note: we run this all at once (over the whole input sequence)\n",
    "\n",
    "        # input = B x S . size(0) = B\n",
    "        batch_size = input.size(0)\n",
    "\n",
    "        # input:  B x S  -- (transpose) --> S x B\n",
    "        # transpose input features to be able to use embedding lookup\n",
    "        input = input.t()\n",
    "\n",
    "        # Embedding S x B -> S x B x I (embedding size)\n",
    "        print(\"  input\", input.size())\n",
    "        embedded = self.embedding(input)\n",
    "        print(\"  embedding\", embedded.size())\n",
    "\n",
    "        # Make a hidden\n",
    "        hidden = self._init_hidden(batch_size)\n",
    "    \n",
    "        # hidden will be 'reused later'\n",
    "        output, hidden = self.gru(embedded, hidden)\n",
    "        print(\"  gru hidden output\", hidden.size())\n",
    "        # Use the last layer output as FC's input\n",
    "        # No need to unpack, since we are going to use hidden\n",
    "        # output is same as hidden, use 1 only\n",
    "        fc_output = self.fc(hidden)\n",
    "        print(\"  fc output\", fc_output.size())\n",
    "        return fc_output\n",
    "\n",
    "    def _init_hidden(self, batch_size):\n",
    "        hidden = torch.zeros(self.n_layers, batch_size, self.hidden_size)\n",
    "        return Variable(hidden)\n"
   ]
  },
  {
   "cell_type": "code",
   "execution_count": 3,
   "metadata": {
    "collapsed": true
   },
   "outputs": [],
   "source": [
    "# Help functions\n",
    "\n",
    "def str2ascii_arr(msg):\n",
    "    arr = [ord(c) for c in msg]\n",
    "    return arr, len(arr)\n",
    "\n",
    "# pad sequences and sort the tensor\n",
    "def pad_sequences(vectorized_seqs, seq_lengths):\n",
    "    seq_tensor = torch.zeros((len(vectorized_seqs), seq_lengths.max())).long()\n",
    "    for idx, (seq, seq_len) in enumerate(zip(vectorized_seqs, seq_lengths)):\n",
    "        seq_tensor[idx, :seq_len] = torch.LongTensor(seq)\n",
    "    return seq_tensor\n",
    "\n",
    "# Create necessary variables, lengths, and target\n",
    "def make_variables(names):\n",
    "    sequence_and_length = [str2ascii_arr(name) for name in names]\n",
    "    vectorized_seqs = [sl[0] for sl in sequence_and_length]\n",
    "    seq_lengths = torch.LongTensor([sl[1] for sl in sequence_and_length])\n",
    "    return pad_sequences(vectorized_seqs, seq_lengths)"
   ]
  },
  {
   "cell_type": "code",
   "execution_count": 7,
   "metadata": {},
   "outputs": [
    {
     "name": "stdout",
     "output_type": "stream",
     "text": [
      "  input torch.Size([6, 1])\n",
      "  embedding torch.Size([6, 1, 100])\n",
      "  gru hidden output torch.Size([1, 1, 100])\n",
      "  fc output torch.Size([1, 1, 18])\n",
      "in torch.Size([1, 6]) out torch.Size([1, 1, 18])\n",
      "  input torch.Size([5, 1])\n",
      "  embedding torch.Size([5, 1, 100])\n",
      "  gru hidden output torch.Size([1, 1, 100])\n",
      "  fc output torch.Size([1, 1, 18])\n",
      "in torch.Size([1, 5]) out torch.Size([1, 1, 18])\n",
      "  input torch.Size([4, 1])\n",
      "  embedding torch.Size([4, 1, 100])\n",
      "  gru hidden output torch.Size([1, 1, 100])\n",
      "  fc output torch.Size([1, 1, 18])\n",
      "in torch.Size([1, 4]) out torch.Size([1, 1, 18])\n",
      "  input torch.Size([3, 1])\n",
      "  embedding torch.Size([3, 1, 100])\n",
      "  gru hidden output torch.Size([1, 1, 100])\n",
      "  fc output torch.Size([1, 1, 18])\n",
      "in torch.Size([1, 3]) out torch.Size([1, 1, 18])\n",
      "  input torch.Size([6, 4])\n",
      "  embedding torch.Size([6, 4, 100])\n",
      "  gru hidden output torch.Size([1, 4, 100])\n",
      "  fc output torch.Size([1, 4, 18])\n",
      "batch in torch.Size([4, 6]) batch out torch.Size([1, 4, 18])\n"
     ]
    }
   ],
   "source": [
    "names = ['adylov', 'solan', 'hard', 'san']\n",
    "classifier = RNNClassifier(N_CHARS, HIDDEN_SIZE, N_CLASSES)\n",
    "\n",
    "for name in names:\n",
    "    # convert to ascii\n",
    "    arr, _ = str2ascii_arr(name)\n",
    "    inp = Variable(torch.LongTensor([arr]))\n",
    "    out = classifier(inp)\n",
    "    print(\"in\", inp.size(), \"out\", out.size())\n",
    "\n",
    "# same without forloop, batching\n",
    "inputs = make_variables(names)\n",
    "out = classifier(inputs)\n",
    "print(\"batch in\", inputs.size(), \"batch out\", out.size())"
   ]
  },
  {
   "cell_type": "code",
   "execution_count": null,
   "metadata": {
    "collapsed": true
   },
   "outputs": [],
   "source": []
  }
 ],
 "metadata": {
  "kernelspec": {
   "display_name": "Python 3",
   "language": "python",
   "name": "python3"
  },
  "language_info": {
   "codemirror_mode": {
    "name": "ipython",
    "version": 3
   },
   "file_extension": ".py",
   "mimetype": "text/x-python",
   "name": "python",
   "nbconvert_exporter": "python",
   "pygments_lexer": "ipython3",
   "version": "3.6.3"
  }
 },
 "nbformat": 4,
 "nbformat_minor": 2
}
