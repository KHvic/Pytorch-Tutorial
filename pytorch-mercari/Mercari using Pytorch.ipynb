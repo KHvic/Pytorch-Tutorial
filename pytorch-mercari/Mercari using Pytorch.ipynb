{
 "cells": [
  {
   "cell_type": "code",
   "execution_count": 1,
   "metadata": {
    "collapsed": true
   },
   "outputs": [],
   "source": [
    "# https://www.kaggle.com/c/mercari-price-suggestion-challenge\n",
    "import os\n",
    "os.environ['OMP_NUM_THREADS'] = '4'"
   ]
  },
  {
   "cell_type": "code",
   "execution_count": 3,
   "metadata": {
    "collapsed": true
   },
   "outputs": [],
   "source": [
    "# used for developing deep learning models\n",
    "import torch\n",
    "from torch.autograd import Variable\n",
    "from torch import optim\n",
    "#from torch.optim import lr_scheduler\n",
    "import torch.nn as nn\n",
    "from torch.utils.data import Dataset, DataLoader\n",
    "from torchvision import transforms, utils\n",
    "import torch.nn.functional as F\n",
    "import numpy as np\n",
    "import pandas as pd\n",
    "import time"
   ]
  },
  {
   "cell_type": "code",
   "execution_count": 16,
   "metadata": {
    "collapsed": true
   },
   "outputs": [],
   "source": [
    "import matplotlib.pyplot as plt\n",
    "import matplotlib.gridspec as gridspec\n",
    "import seaborn as sns\n",
    "from sklearn.preprocessing import LabelEncoder, MinMaxScaler, StandardScaler\n",
    "from sklearn.model_selection import train_test_split\n",
    "import math\n",
    "%matplotlib inline  "
   ]
  },
  {
   "cell_type": "code",
   "execution_count": 5,
   "metadata": {
    "collapsed": true
   },
   "outputs": [],
   "source": [
    "train = pd.read_csv('./data/train.tsv', sep='\\t')\n",
    "test = pd.read_csv('./data/test.tsv', sep='\\t')"
   ]
  },
  {
   "cell_type": "markdown",
   "metadata": {},
   "source": [
    "## Data Visualisation"
   ]
  },
  {
   "cell_type": "code",
   "execution_count": 7,
   "metadata": {
    "collapsed": true
   },
   "outputs": [
    {
     "data": {
      "text/html": [
       "<div>\n",
       "<style>\n",
       "    .dataframe thead tr:only-child th {\n",
       "        text-align: right;\n",
       "    }\n",
       "\n",
       "    .dataframe thead th {\n",
       "        text-align: left;\n",
       "    }\n",
       "\n",
       "    .dataframe tbody tr th {\n",
       "        vertical-align: top;\n",
       "    }\n",
       "</style>\n",
       "<table border=\"1\" class=\"dataframe\">\n",
       "  <thead>\n",
       "    <tr style=\"text-align: right;\">\n",
       "      <th></th>\n",
       "      <th>train_id</th>\n",
       "      <th>item_condition_id</th>\n",
       "      <th>price</th>\n",
       "      <th>shipping</th>\n",
       "    </tr>\n",
       "  </thead>\n",
       "  <tbody>\n",
       "    <tr>\n",
       "      <th>count</th>\n",
       "      <td>1.482535e+06</td>\n",
       "      <td>1.482535e+06</td>\n",
       "      <td>1.482535e+06</td>\n",
       "      <td>1.482535e+06</td>\n",
       "    </tr>\n",
       "    <tr>\n",
       "      <th>mean</th>\n",
       "      <td>7.412670e+05</td>\n",
       "      <td>1.907380e+00</td>\n",
       "      <td>2.673752e+01</td>\n",
       "      <td>4.472744e-01</td>\n",
       "    </tr>\n",
       "    <tr>\n",
       "      <th>std</th>\n",
       "      <td>4.279711e+05</td>\n",
       "      <td>9.031586e-01</td>\n",
       "      <td>3.858607e+01</td>\n",
       "      <td>4.972124e-01</td>\n",
       "    </tr>\n",
       "    <tr>\n",
       "      <th>min</th>\n",
       "      <td>0.000000e+00</td>\n",
       "      <td>1.000000e+00</td>\n",
       "      <td>0.000000e+00</td>\n",
       "      <td>0.000000e+00</td>\n",
       "    </tr>\n",
       "    <tr>\n",
       "      <th>25%</th>\n",
       "      <td>3.706335e+05</td>\n",
       "      <td>1.000000e+00</td>\n",
       "      <td>1.000000e+01</td>\n",
       "      <td>0.000000e+00</td>\n",
       "    </tr>\n",
       "    <tr>\n",
       "      <th>50%</th>\n",
       "      <td>7.412670e+05</td>\n",
       "      <td>2.000000e+00</td>\n",
       "      <td>1.700000e+01</td>\n",
       "      <td>0.000000e+00</td>\n",
       "    </tr>\n",
       "    <tr>\n",
       "      <th>75%</th>\n",
       "      <td>1.111900e+06</td>\n",
       "      <td>3.000000e+00</td>\n",
       "      <td>2.900000e+01</td>\n",
       "      <td>1.000000e+00</td>\n",
       "    </tr>\n",
       "    <tr>\n",
       "      <th>max</th>\n",
       "      <td>1.482534e+06</td>\n",
       "      <td>5.000000e+00</td>\n",
       "      <td>2.009000e+03</td>\n",
       "      <td>1.000000e+00</td>\n",
       "    </tr>\n",
       "  </tbody>\n",
       "</table>\n",
       "</div>"
      ],
      "text/plain": [
       "           train_id  item_condition_id         price      shipping\n",
       "count  1.482535e+06       1.482535e+06  1.482535e+06  1.482535e+06\n",
       "mean   7.412670e+05       1.907380e+00  2.673752e+01  4.472744e-01\n",
       "std    4.279711e+05       9.031586e-01  3.858607e+01  4.972124e-01\n",
       "min    0.000000e+00       1.000000e+00  0.000000e+00  0.000000e+00\n",
       "25%    3.706335e+05       1.000000e+00  1.000000e+01  0.000000e+00\n",
       "50%    7.412670e+05       2.000000e+00  1.700000e+01  0.000000e+00\n",
       "75%    1.111900e+06       3.000000e+00  2.900000e+01  1.000000e+00\n",
       "max    1.482534e+06       5.000000e+00  2.009000e+03  1.000000e+00"
      ]
     },
     "execution_count": 7,
     "metadata": {},
     "output_type": "execute_result"
    }
   ],
   "source": [
    "train.describe()"
   ]
  },
  {
   "cell_type": "code",
   "execution_count": 9,
   "metadata": {
    "collapsed": true
   },
   "outputs": [
    {
     "data": {
      "text/html": [
       "<div>\n",
       "<style>\n",
       "    .dataframe thead tr:only-child th {\n",
       "        text-align: right;\n",
       "    }\n",
       "\n",
       "    .dataframe thead th {\n",
       "        text-align: left;\n",
       "    }\n",
       "\n",
       "    .dataframe tbody tr th {\n",
       "        vertical-align: top;\n",
       "    }\n",
       "</style>\n",
       "<table border=\"1\" class=\"dataframe\">\n",
       "  <thead>\n",
       "    <tr style=\"text-align: right;\">\n",
       "      <th></th>\n",
       "      <th>train_id</th>\n",
       "      <th>name</th>\n",
       "      <th>item_condition_id</th>\n",
       "      <th>category_name</th>\n",
       "      <th>brand_name</th>\n",
       "      <th>price</th>\n",
       "      <th>shipping</th>\n",
       "      <th>item_description</th>\n",
       "    </tr>\n",
       "  </thead>\n",
       "  <tbody>\n",
       "    <tr>\n",
       "      <th>0</th>\n",
       "      <td>0</td>\n",
       "      <td>MLB Cincinnati Reds T Shirt Size XL</td>\n",
       "      <td>3</td>\n",
       "      <td>Men/Tops/T-shirts</td>\n",
       "      <td>NaN</td>\n",
       "      <td>10.0</td>\n",
       "      <td>1</td>\n",
       "      <td>No description yet</td>\n",
       "    </tr>\n",
       "    <tr>\n",
       "      <th>1</th>\n",
       "      <td>1</td>\n",
       "      <td>Razer BlackWidow Chroma Keyboard</td>\n",
       "      <td>3</td>\n",
       "      <td>Electronics/Computers &amp; Tablets/Components &amp; P...</td>\n",
       "      <td>Razer</td>\n",
       "      <td>52.0</td>\n",
       "      <td>0</td>\n",
       "      <td>This keyboard is in great condition and works ...</td>\n",
       "    </tr>\n",
       "    <tr>\n",
       "      <th>2</th>\n",
       "      <td>2</td>\n",
       "      <td>AVA-VIV Blouse</td>\n",
       "      <td>1</td>\n",
       "      <td>Women/Tops &amp; Blouses/Blouse</td>\n",
       "      <td>Target</td>\n",
       "      <td>10.0</td>\n",
       "      <td>1</td>\n",
       "      <td>Adorable top with a hint of lace and a key hol...</td>\n",
       "    </tr>\n",
       "    <tr>\n",
       "      <th>3</th>\n",
       "      <td>3</td>\n",
       "      <td>Leather Horse Statues</td>\n",
       "      <td>1</td>\n",
       "      <td>Home/Home Décor/Home Décor Accents</td>\n",
       "      <td>NaN</td>\n",
       "      <td>35.0</td>\n",
       "      <td>1</td>\n",
       "      <td>New with tags. Leather horses. Retail for [rm]...</td>\n",
       "    </tr>\n",
       "    <tr>\n",
       "      <th>4</th>\n",
       "      <td>4</td>\n",
       "      <td>24K GOLD plated rose</td>\n",
       "      <td>1</td>\n",
       "      <td>Women/Jewelry/Necklaces</td>\n",
       "      <td>NaN</td>\n",
       "      <td>44.0</td>\n",
       "      <td>0</td>\n",
       "      <td>Complete with certificate of authenticity</td>\n",
       "    </tr>\n",
       "  </tbody>\n",
       "</table>\n",
       "</div>"
      ],
      "text/plain": [
       "   train_id                                 name  item_condition_id  \\\n",
       "0         0  MLB Cincinnati Reds T Shirt Size XL                  3   \n",
       "1         1     Razer BlackWidow Chroma Keyboard                  3   \n",
       "2         2                       AVA-VIV Blouse                  1   \n",
       "3         3                Leather Horse Statues                  1   \n",
       "4         4                 24K GOLD plated rose                  1   \n",
       "\n",
       "                                       category_name brand_name  price  \\\n",
       "0                                  Men/Tops/T-shirts        NaN   10.0   \n",
       "1  Electronics/Computers & Tablets/Components & P...      Razer   52.0   \n",
       "2                        Women/Tops & Blouses/Blouse     Target   10.0   \n",
       "3                 Home/Home Décor/Home Décor Accents        NaN   35.0   \n",
       "4                            Women/Jewelry/Necklaces        NaN   44.0   \n",
       "\n",
       "   shipping                                   item_description  \n",
       "0         1                                 No description yet  \n",
       "1         0  This keyboard is in great condition and works ...  \n",
       "2         1  Adorable top with a hint of lace and a key hol...  \n",
       "3         1  New with tags. Leather horses. Retail for [rm]...  \n",
       "4         0          Complete with certificate of authenticity  "
      ]
     },
     "execution_count": 9,
     "metadata": {},
     "output_type": "execute_result"
    }
   ],
   "source": [
    "train.head(5)"
   ]
  },
  {
   "cell_type": "code",
   "execution_count": 8,
   "metadata": {
    "collapsed": true
   },
   "outputs": [
    {
     "data": {
      "text/plain": [
       "train_id                  0\n",
       "name                      0\n",
       "item_condition_id         0\n",
       "category_name          6327\n",
       "brand_name           632682\n",
       "price                     0\n",
       "shipping                  0\n",
       "item_description          4\n",
       "dtype: int64"
      ]
     },
     "execution_count": 8,
     "metadata": {},
     "output_type": "execute_result"
    }
   ],
   "source": [
    "# check for null\n",
    "train.isnull().sum()"
   ]
  },
  {
   "cell_type": "markdown",
   "metadata": {},
   "source": [
    "#### Category"
   ]
  },
  {
   "cell_type": "code",
   "execution_count": 10,
   "metadata": {
    "collapsed": true
   },
   "outputs": [],
   "source": [
    "def split_cat(text):\n",
    "    try: return text.split(\"/\")\n",
    "    except: return (\"None\", \"None\", \"None\")"
   ]
  },
  {
   "cell_type": "code",
   "execution_count": 11,
   "metadata": {},
   "outputs": [
    {
     "data": {
      "text/html": [
       "<div>\n",
       "<style>\n",
       "    .dataframe thead tr:only-child th {\n",
       "        text-align: right;\n",
       "    }\n",
       "\n",
       "    .dataframe thead th {\n",
       "        text-align: left;\n",
       "    }\n",
       "\n",
       "    .dataframe tbody tr th {\n",
       "        vertical-align: top;\n",
       "    }\n",
       "</style>\n",
       "<table border=\"1\" class=\"dataframe\">\n",
       "  <thead>\n",
       "    <tr style=\"text-align: right;\">\n",
       "      <th></th>\n",
       "      <th>test_id</th>\n",
       "      <th>name</th>\n",
       "      <th>item_condition_id</th>\n",
       "      <th>category_name</th>\n",
       "      <th>brand_name</th>\n",
       "      <th>shipping</th>\n",
       "      <th>item_description</th>\n",
       "      <th>general_cat</th>\n",
       "      <th>subcat_1</th>\n",
       "      <th>subcat_2</th>\n",
       "    </tr>\n",
       "  </thead>\n",
       "  <tbody>\n",
       "    <tr>\n",
       "      <th>0</th>\n",
       "      <td>0</td>\n",
       "      <td>Breast cancer \"I fight like a girl\" ring</td>\n",
       "      <td>1</td>\n",
       "      <td>Women/Jewelry/Rings</td>\n",
       "      <td>NaN</td>\n",
       "      <td>1</td>\n",
       "      <td>Size 7</td>\n",
       "      <td>Women</td>\n",
       "      <td>Jewelry</td>\n",
       "      <td>Rings</td>\n",
       "    </tr>\n",
       "    <tr>\n",
       "      <th>1</th>\n",
       "      <td>1</td>\n",
       "      <td>25 pcs NEW 7.5\"x12\" Kraft Bubble Mailers</td>\n",
       "      <td>1</td>\n",
       "      <td>Other/Office supplies/Shipping Supplies</td>\n",
       "      <td>NaN</td>\n",
       "      <td>1</td>\n",
       "      <td>25 pcs NEW 7.5\"x12\" Kraft Bubble Mailers Lined...</td>\n",
       "      <td>Other</td>\n",
       "      <td>Office supplies</td>\n",
       "      <td>Shipping Supplies</td>\n",
       "    </tr>\n",
       "    <tr>\n",
       "      <th>2</th>\n",
       "      <td>2</td>\n",
       "      <td>Coach bag</td>\n",
       "      <td>1</td>\n",
       "      <td>Vintage &amp; Collectibles/Bags and Purses/Handbag</td>\n",
       "      <td>Coach</td>\n",
       "      <td>1</td>\n",
       "      <td>Brand new coach bag. Bought for [rm] at a Coac...</td>\n",
       "      <td>Vintage &amp; Collectibles</td>\n",
       "      <td>Bags and Purses</td>\n",
       "      <td>Handbag</td>\n",
       "    </tr>\n",
       "    <tr>\n",
       "      <th>3</th>\n",
       "      <td>3</td>\n",
       "      <td>Floral Kimono</td>\n",
       "      <td>2</td>\n",
       "      <td>Women/Sweaters/Cardigan</td>\n",
       "      <td>NaN</td>\n",
       "      <td>0</td>\n",
       "      <td>-floral kimono -never worn -lightweight and pe...</td>\n",
       "      <td>Women</td>\n",
       "      <td>Sweaters</td>\n",
       "      <td>Cardigan</td>\n",
       "    </tr>\n",
       "    <tr>\n",
       "      <th>4</th>\n",
       "      <td>4</td>\n",
       "      <td>Life after Death</td>\n",
       "      <td>3</td>\n",
       "      <td>Other/Books/Religion &amp; Spirituality</td>\n",
       "      <td>NaN</td>\n",
       "      <td>1</td>\n",
       "      <td>Rediscovering life after the loss of a loved o...</td>\n",
       "      <td>Other</td>\n",
       "      <td>Books</td>\n",
       "      <td>Religion &amp; Spirituality</td>\n",
       "    </tr>\n",
       "  </tbody>\n",
       "</table>\n",
       "</div>"
      ],
      "text/plain": [
       "   test_id                                      name  item_condition_id  \\\n",
       "0        0  Breast cancer \"I fight like a girl\" ring                  1   \n",
       "1        1  25 pcs NEW 7.5\"x12\" Kraft Bubble Mailers                  1   \n",
       "2        2                                 Coach bag                  1   \n",
       "3        3                             Floral Kimono                  2   \n",
       "4        4                          Life after Death                  3   \n",
       "\n",
       "                                    category_name brand_name  shipping  \\\n",
       "0                             Women/Jewelry/Rings        NaN         1   \n",
       "1         Other/Office supplies/Shipping Supplies        NaN         1   \n",
       "2  Vintage & Collectibles/Bags and Purses/Handbag      Coach         1   \n",
       "3                         Women/Sweaters/Cardigan        NaN         0   \n",
       "4             Other/Books/Religion & Spirituality        NaN         1   \n",
       "\n",
       "                                    item_description             general_cat  \\\n",
       "0                                             Size 7                   Women   \n",
       "1  25 pcs NEW 7.5\"x12\" Kraft Bubble Mailers Lined...                   Other   \n",
       "2  Brand new coach bag. Bought for [rm] at a Coac...  Vintage & Collectibles   \n",
       "3  -floral kimono -never worn -lightweight and pe...                   Women   \n",
       "4  Rediscovering life after the loss of a loved o...                   Other   \n",
       "\n",
       "          subcat_1                 subcat_2  \n",
       "0          Jewelry                    Rings  \n",
       "1  Office supplies        Shipping Supplies  \n",
       "2  Bags and Purses                  Handbag  \n",
       "3         Sweaters                 Cardigan  \n",
       "4            Books  Religion & Spirituality  "
      ]
     },
     "execution_count": 11,
     "metadata": {},
     "output_type": "execute_result"
    }
   ],
   "source": [
    "train['general_cat'], train['subcat_1'], train['subcat_2'] = zip(*train['category_name'].apply(lambda x: split_cat(x)))\n",
    "train.head()\n",
    "test['general_cat'], test['subcat_1'], test['subcat_2'] = zip(*test['category_name'].apply(lambda x: split_cat(x)))\n",
    "test.head()"
   ]
  },
  {
   "cell_type": "code",
   "execution_count": 17,
   "metadata": {},
   "outputs": [
    {
     "data": {
      "text/plain": [
       "Text(0,0.5,'Frequency')"
      ]
     },
     "execution_count": 17,
     "metadata": {},
     "output_type": "execute_result"
    },
    {
     "data": {
      "image/png": "[encoded data removed]",
      "text/plain": [
       "<matplotlib.figure.Figure at 0x1643b72b0>"
      ]
     },
     "metadata": {},
     "output_type": "display_data"
    }
   ],
   "source": [
    "### Plotting some histograms of categorical Variables\n",
    "plt.figure(figsize=(10,10))\n",
    "plt.subplot(3,3,1)\n",
    "count_classes_general_cat = pd.value_counts(train.general_cat, sort = True)\n",
    "count_classes_general_cat.plot(kind = 'bar')\n",
    "plt.title(\"General Category histogram\")\n",
    "plt.xlabel(\"Class\")\n",
    "plt.ylabel(\"Frequency\")\n",
    "# subcategory 1\n",
    "plt.subplot(3,3,3)\n",
    "count_classes_subcat_1 = pd.value_counts(train.subcat_1, sort = True)[:15]\n",
    "count_classes_subcat_1.plot(kind = 'bar')\n",
    "plt.title(\"Sub Category 1 histogram\")\n",
    "plt.xlabel(\"Class\")\n",
    "plt.ylabel(\"Frequency\")\n",
    "# subcategory 2\n",
    "plt.subplot(3,3,9)\n",
    "count_classes_subcat_2 = pd.value_counts(train.subcat_2, sort = True)[:15]\n",
    "count_classes_subcat_2.plot(kind = 'bar')\n",
    "plt.title(\"Sub Category 2 histogram\")\n",
    "plt.xlabel(\"Class\")\n",
    "plt.ylabel(\"Frequency\")"
   ]
  },
  {
   "cell_type": "code",
   "execution_count": 19,
   "metadata": {},
   "outputs": [
    {
     "name": "stdout",
     "output_type": "stream",
     "text": [
      "There are 4809 unique brand names in the training dataset.\n"
     ]
    }
   ],
   "source": [
    "print(\"There are %d unique brand names in the training dataset.\" % train['brand_name'].nunique())"
   ]
  },
  {
   "cell_type": "code",
   "execution_count": 18,
   "metadata": {},
   "outputs": [
    {
     "data": {
      "text/plain": [
       "<matplotlib.axes._subplots.AxesSubplot at 0x16456f2e8>"
      ]
     },
     "execution_count": 18,
     "metadata": {},
     "output_type": "execute_result"
    },
    {
     "data": {
      "image/png": "[encoded data removed]",
      "text/plain": [
       "<matplotlib.figure.Figure at 0x1645c0dd8>"
      ]
     },
     "metadata": {},
     "output_type": "display_data"
    }
   ],
   "source": [
    "fig, ax = plt.subplots(1, 1, figsize=(11, 7), sharex=True)\n",
    "sns.distplot(np.log(train['price'].values+1))"
   ]
  },
  {
   "cell_type": "markdown",
   "metadata": {},
   "source": [
    "## Data Handling"
   ]
  },
  {
   "cell_type": "code",
   "execution_count": 20,
   "metadata": {
    "collapsed": true
   },
   "outputs": [],
   "source": [
    "# Loss Function\n",
    "def rmsle(y, y_pred):\n",
    "    assert len(y) == len(y_pred)\n",
    "    to_sum = [(math.log(y_pred[i] + 1) - math.log(y[i] + 1)) ** 2.0 for i,pred in enumerate(y_pred)]\n",
    "    return (sum(to_sum) * (1.0/len(y))) ** 0.5"
   ]
  },
  {
   "cell_type": "code",
   "execution_count": 24,
   "metadata": {},
   "outputs": [
    {
     "name": "stdout",
     "output_type": "stream",
     "text": [
      "Handling missing values...\n",
      "(1482535, 11)\n",
      "(693359, 10)\n"
     ]
    },
    {
     "data": {
      "text/plain": [
       "train_id             0\n",
       "name                 0\n",
       "item_condition_id    0\n",
       "category_name        0\n",
       "brand_name           0\n",
       "price                0\n",
       "shipping             0\n",
       "item_description     0\n",
       "general_cat          0\n",
       "subcat_1             0\n",
       "subcat_2             0\n",
       "dtype: int64"
      ]
     },
     "execution_count": 24,
     "metadata": {},
     "output_type": "execute_result"
    }
   ],
   "source": [
    "print(\"Handling missing values...\")\n",
    "def handle_missing(dataset):\n",
    "    # Replace na with \"None\"\n",
    "    dataset.brand_name.fillna(value=\"None\", inplace=True)\n",
    "    dataset.item_description.fillna(value=\"None\", inplace=True)\n",
    "    dataset.category_name.fillna(value=\"None\", inplace=True)\n",
    "    return (dataset)\n",
    "\n",
    "train = handle_missing(train)\n",
    "test = handle_missing(test)\n",
    "print(train.shape)\n",
    "print(test.shape)\n",
    "train.isnull().sum()"
   ]
  },
  {
   "cell_type": "code",
   "execution_count": 25,
   "metadata": {
    "collapsed": true
   },
   "outputs": [],
   "source": [
    "# Encode Categorical Data\n",
    "def encode_text(column):\n",
    "    le = LabelEncoder()\n",
    "    le.fit(np.hstack([train[column], test[column]]))\n",
    "    train[column+'_index'] = le.transform(train[column])\n",
    "    test[column+'_index'] = le.transform(test[column])"
   ]
  },
  {
   "cell_type": "code",
   "execution_count": 26,
   "metadata": {
    "collapsed": true
   },
   "outputs": [],
   "source": [
    "encode_text('brand_name')\n",
    "encode_text('general_cat')\n",
    "encode_text(\"subcat_1\")\n",
    "encode_text('subcat_2')\n",
    "encode_text('category_name')"
   ]
  },
  {
   "cell_type": "code",
   "execution_count": 27,
   "metadata": {
    "collapsed": true
   },
   "outputs": [
    {
     "data": {
      "text/html": [
       "<div>\n",
       "<style>\n",
       "    .dataframe thead tr:only-child th {\n",
       "        text-align: right;\n",
       "    }\n",
       "\n",
       "    .dataframe thead th {\n",
       "        text-align: left;\n",
       "    }\n",
       "\n",
       "    .dataframe tbody tr th {\n",
       "        vertical-align: top;\n",
       "    }\n",
       "</style>\n",
       "<table border=\"1\" class=\"dataframe\">\n",
       "  <thead>\n",
       "    <tr style=\"text-align: right;\">\n",
       "      <th></th>\n",
       "      <th>test_id</th>\n",
       "      <th>name</th>\n",
       "      <th>item_condition_id</th>\n",
       "      <th>category_name</th>\n",
       "      <th>brand_name</th>\n",
       "      <th>shipping</th>\n",
       "      <th>item_description</th>\n",
       "      <th>general_cat</th>\n",
       "      <th>subcat_1</th>\n",
       "      <th>subcat_2</th>\n",
       "      <th>brand_name_index</th>\n",
       "      <th>general_cat_index</th>\n",
       "      <th>subcat_1_index</th>\n",
       "      <th>subcat_2_index</th>\n",
       "      <th>category_name_index</th>\n",
       "    </tr>\n",
       "  </thead>\n",
       "  <tbody>\n",
       "    <tr>\n",
       "      <th>0</th>\n",
       "      <td>0</td>\n",
       "      <td>Breast cancer \"I fight like a girl\" ring</td>\n",
       "      <td>1</td>\n",
       "      <td>Women/Jewelry/Rings</td>\n",
       "      <td>None</td>\n",
       "      <td>1</td>\n",
       "      <td>Size 7</td>\n",
       "      <td>Women</td>\n",
       "      <td>Jewelry</td>\n",
       "      <td>Rings</td>\n",
       "      <td>3361</td>\n",
       "      <td>10</td>\n",
       "      <td>58</td>\n",
       "      <td>667</td>\n",
       "      <td>1206</td>\n",
       "    </tr>\n",
       "    <tr>\n",
       "      <th>1</th>\n",
       "      <td>1</td>\n",
       "      <td>25 pcs NEW 7.5\"x12\" Kraft Bubble Mailers</td>\n",
       "      <td>1</td>\n",
       "      <td>Other/Office supplies/Shipping Supplies</td>\n",
       "      <td>None</td>\n",
       "      <td>1</td>\n",
       "      <td>25 pcs NEW 7.5\"x12\" Kraft Bubble Mailers Lined...</td>\n",
       "      <td>Other</td>\n",
       "      <td>Office supplies</td>\n",
       "      <td>Shipping Supplies</td>\n",
       "      <td>3361</td>\n",
       "      <td>7</td>\n",
       "      <td>72</td>\n",
       "      <td>701</td>\n",
       "      <td>900</td>\n",
       "    </tr>\n",
       "    <tr>\n",
       "      <th>2</th>\n",
       "      <td>2</td>\n",
       "      <td>Coach bag</td>\n",
       "      <td>1</td>\n",
       "      <td>Vintage &amp; Collectibles/Bags and Purses/Handbag</td>\n",
       "      <td>Coach</td>\n",
       "      <td>1</td>\n",
       "      <td>Brand new coach bag. Bought for [rm] at a Coac...</td>\n",
       "      <td>Vintage &amp; Collectibles</td>\n",
       "      <td>Bags and Purses</td>\n",
       "      <td>Handbag</td>\n",
       "      <td>1094</td>\n",
       "      <td>9</td>\n",
       "      <td>7</td>\n",
       "      <td>382</td>\n",
       "      <td>1001</td>\n",
       "    </tr>\n",
       "    <tr>\n",
       "      <th>3</th>\n",
       "      <td>3</td>\n",
       "      <td>Floral Kimono</td>\n",
       "      <td>2</td>\n",
       "      <td>Women/Sweaters/Cardigan</td>\n",
       "      <td>None</td>\n",
       "      <td>0</td>\n",
       "      <td>-floral kimono -never worn -lightweight and pe...</td>\n",
       "      <td>Women</td>\n",
       "      <td>Sweaters</td>\n",
       "      <td>Cardigan</td>\n",
       "      <td>3361</td>\n",
       "      <td>10</td>\n",
       "      <td>97</td>\n",
       "      <td>166</td>\n",
       "      <td>1257</td>\n",
       "    </tr>\n",
       "    <tr>\n",
       "      <th>4</th>\n",
       "      <td>4</td>\n",
       "      <td>Life after Death</td>\n",
       "      <td>3</td>\n",
       "      <td>Other/Books/Religion &amp; Spirituality</td>\n",
       "      <td>None</td>\n",
       "      <td>1</td>\n",
       "      <td>Rediscovering life after the loss of a loved o...</td>\n",
       "      <td>Other</td>\n",
       "      <td>Books</td>\n",
       "      <td>Religion &amp; Spirituality</td>\n",
       "      <td>3361</td>\n",
       "      <td>7</td>\n",
       "      <td>14</td>\n",
       "      <td>662</td>\n",
       "      <td>861</td>\n",
       "    </tr>\n",
       "  </tbody>\n",
       "</table>\n",
       "</div>"
      ],
      "text/plain": [
       "   test_id                                      name  item_condition_id  \\\n",
       "0        0  Breast cancer \"I fight like a girl\" ring                  1   \n",
       "1        1  25 pcs NEW 7.5\"x12\" Kraft Bubble Mailers                  1   \n",
       "2        2                                 Coach bag                  1   \n",
       "3        3                             Floral Kimono                  2   \n",
       "4        4                          Life after Death                  3   \n",
       "\n",
       "                                    category_name brand_name  shipping  \\\n",
       "0                             Women/Jewelry/Rings       None         1   \n",
       "1         Other/Office supplies/Shipping Supplies       None         1   \n",
       "2  Vintage & Collectibles/Bags and Purses/Handbag      Coach         1   \n",
       "3                         Women/Sweaters/Cardigan       None         0   \n",
       "4             Other/Books/Religion & Spirituality       None         1   \n",
       "\n",
       "                                    item_description             general_cat  \\\n",
       "0                                             Size 7                   Women   \n",
       "1  25 pcs NEW 7.5\"x12\" Kraft Bubble Mailers Lined...                   Other   \n",
       "2  Brand new coach bag. Bought for [rm] at a Coac...  Vintage & Collectibles   \n",
       "3  -floral kimono -never worn -lightweight and pe...                   Women   \n",
       "4  Rediscovering life after the loss of a loved o...                   Other   \n",
       "\n",
       "          subcat_1                 subcat_2  brand_name_index  \\\n",
       "0          Jewelry                    Rings              3361   \n",
       "1  Office supplies        Shipping Supplies              3361   \n",
       "2  Bags and Purses                  Handbag              1094   \n",
       "3         Sweaters                 Cardigan              3361   \n",
       "4            Books  Religion & Spirituality              3361   \n",
       "\n",
       "   general_cat_index  subcat_1_index  subcat_2_index  category_name_index  \n",
       "0                 10              58             667                 1206  \n",
       "1                  7              72             701                  900  \n",
       "2                  9               7             382                 1001  \n",
       "3                 10              97             166                 1257  \n",
       "4                  7              14             662                  861  "
      ]
     },
     "execution_count": 27,
     "metadata": {},
     "output_type": "execute_result"
    }
   ],
   "source": [
    "test.head()"
   ]
  },
  {
   "cell_type": "code",
   "execution_count": 28,
   "metadata": {
    "collapsed": true
   },
   "outputs": [],
   "source": [
    "class Category:\n",
    "    def __init__(self, name):\n",
    "        self.name = name\n",
    "        self.word2index = {}\n",
    "        self.word2count = {}\n",
    "        self.index2word = {0: \"SOS\", 1: \"EOS\"}\n",
    "        self.n_words = 2  # Count SOS and EOS\n",
    "\n",
    "    def addSentence(self, sentence):\n",
    "        for word in sentence.split(' '):\n",
    "            self.addWord(word)\n",
    "\n",
    "    def addWord(self, word):\n",
    "        if word not in self.word2index:\n",
    "            self.word2index[word] = self.n_words\n",
    "            self.word2count[word] = 1\n",
    "            self.index2word[self.n_words] = word\n",
    "            self.n_words += 1\n",
    "        else:\n",
    "            self.word2count[word] += 1"
   ]
  },
  {
   "cell_type": "code",
   "execution_count": 29,
   "metadata": {
    "collapsed": true
   },
   "outputs": [],
   "source": [
    "# Turn a Unicode string to plain ASCII\n",
    "import unicodedata\n",
    "import re\n",
    "def unicodeToAscii(s):\n",
    "    return ''.join(\n",
    "        c for c in unicodedata.normalize('NFD', s)\n",
    "        if unicodedata.category(c) != 'Mn'\n",
    "    )\n",
    "\n",
    "# Lowercase, trim, and remove non-letter characters\n",
    "def normalizeString(s):\n",
    "    #s = unicodeToAscii(s.lower().strip())\n",
    "    s = re.sub(r\"([.!?])\", r\" \\1\", s)\n",
    "    s = re.sub(r\"[^a-zA-Z.!?]+\", r\" \", s)\n",
    "    return s\n",
    "\n",
    "def normalizeLine(sentence):\n",
    "    return [normalizeString(s) for s in sentence.split('\\t')]"
   ]
  },
  {
   "cell_type": "code",
   "execution_count": 34,
   "metadata": {
    "collapsed": true
   },
   "outputs": [],
   "source": [
    "# normalize each sentence's tokens\n",
    "def prepareData(lang1,data):\n",
    "    # new Category object based on column\n",
    "    input_cat = Category(lang1)\n",
    "    for sentence in data:\n",
    "        # normalize\n",
    "        normalize_line = [normalizeString(s) for s in sentence.split('\\t')]\n",
    "        # 'insert' to each token of sentence to category Object\n",
    "        input_cat.addSentence(normalize_line[0])\n",
    "        \n",
    "    print(\"Counted words:\")\n",
    "    print(input_cat.name, input_cat.n_words)\n",
    "    return input_cat"
   ]
  },
  {
   "cell_type": "code",
   "execution_count": 31,
   "metadata": {
    "collapsed": true
   },
   "outputs": [],
   "source": [
    "def indexesFromSentence(lang, sentence):\n",
    "    return [lang.word2index[word] for word in sentence.split(' ')]\n",
    "\n",
    "def variableFromSentence(lang, sentence):\n",
    "    indexes = indexesFromSentence(lang, sentence)\n",
    "    #indexes.append(EOS_token)\n",
    "    return indexes"
   ]
  },
  {
   "cell_type": "code",
   "execution_count": 32,
   "metadata": {
    "collapsed": true
   },
   "outputs": [],
   "source": [
    "# return sequence of token id for a column\n",
    "def token_fit(column):\n",
    "    raw_text = np.hstack([(train[column]).str.lower(), (test[column]).str.lower()])\n",
    "    cat1 = prepareData(column,raw_text)\n",
    "    print (\"adding train data\")\n",
    "    train[column + '_seq'] = [variableFromSentence(cat1,normalizeLine(sentence.lower())[0]) for sentence in train[column]]\n",
    "    print (\"adding test data\")\n",
    "    test[column + '_seq'] = [variableFromSentence(cat1,normalizeLine(sentence.lower())[0]) for sentence in test[column]]"
   ]
  },
  {
   "cell_type": "code",
   "execution_count": 33,
   "metadata": {},
   "outputs": [
    {
     "name": "stdout",
     "output_type": "stream",
     "text": [
      "Counted words:\n",
      "name 113421\n",
      "adding train data\n",
      "adding test data\n"
     ]
    }
   ],
   "source": [
    "token_fit('name')"
   ]
  },
  {
   "cell_type": "code",
   "execution_count": 36,
   "metadata": {},
   "outputs": [
    {
     "name": "stdout",
     "output_type": "stream",
     "text": [
      "Counted words:\n",
      "item_description 162434\n",
      "adding train data\n",
      "adding test data\n"
     ]
    }
   ],
   "source": [
    "token_fit('item_description')"
   ]
  },
  {
   "cell_type": "code",
   "execution_count": 37,
   "metadata": {},
   "outputs": [
    {
     "name": "stdout",
     "output_type": "stream",
     "text": [
      "max name seq 29\n",
      "max item desc seq 237\n"
     ]
    }
   ],
   "source": [
    "#SEQUENCES VARIABLES ANALYSIS\n",
    "# Find out longest token count of name & desc column\n",
    "max_name_seq = np.max([np.max(train.name_seq.apply(lambda x: len(x))), np.max(test.name_seq.apply(lambda x: len(x)))])\n",
    "max_item_description_seq = np.max([np.max(train.item_description_seq.apply(lambda x: len(x)))\n",
    "                                   , np.max(test.item_description_seq.apply(lambda x: len(x)))])\n",
    "print(\"max name seq \"+str(max_name_seq))\n",
    "print(\"max item desc seq \"+str(max_item_description_seq))"
   ]
  },
  {
   "cell_type": "code",
   "execution_count": 38,
   "metadata": {
    "collapsed": true
   },
   "outputs": [],
   "source": [
    "#EMBEDDINGS MAX VALUE\n",
    "#Base on the histograms, we select the next lengths\n",
    "MAX_NAME_SEQ = 10\n",
    "MAX_ITEM_DESC_SEQ = 75\n",
    "# find highest index\n",
    "MAX_TEXT = np.max([np.max(train.name_seq.max()) \n",
    "                   , np.max(test.name_seq.max())\n",
    "                  , np.max(train.item_description_seq.max())\n",
    "                  , np.max(test.item_description_seq.max())])+2\n",
    "MAX_GEN_CATEGORY = np.max([train.general_cat_index.max(), test.general_cat_index.max()])+1\n",
    "MAX_SUB_CAT1_CATEGORY = np.max([train.subcat_1_index.max(), test.subcat_1_index.max()])+1\n",
    "MAX_SUB_CAT2_CATEGORY = np.max([train.subcat_2_index.max(), test.subcat_2_index.max()])+1\n",
    "MAX_BRAND = np.max([train.brand_name_index.max(), test.brand_name_index.max()])+1\n",
    "MAX_CONDITION = np.max([train.item_condition_id.max(), test.item_condition_id.max()])+1\n",
    "MAX_CATEGORY_NAME = np.max([train.category_name_index.max(), test.category_name_index.max()])+1"
   ]
  },
  {
   "cell_type": "code",
   "execution_count": 45,
   "metadata": {},
   "outputs": [
    {
     "data": {
      "text/plain": [
       "array([[<matplotlib.axes._subplots.AxesSubplot object at 0x18e3807f0>]],\n",
       "      dtype=object)"
      ]
     },
     "execution_count": 45,
     "metadata": {},
     "output_type": "execute_result"
    },
    {
     "data": {
      "image/png": "[encoded data removed]",
      "text/plain": [
       "<matplotlib.figure.Figure at 0x169c42240>"
      ]
     },
     "metadata": {},
     "output_type": "display_data"
    }
   ],
   "source": [
    "#SCALE target variable\n",
    "train[\"target\"] = np.log(train.price+1)\n",
    "target_scaler = MinMaxScaler(feature_range=(-1, 1))\n",
    "train[\"target\"] = target_scaler.fit_transform(train.target.values.reshape(-1,1))\n",
    "pd.DataFrame(train.target).hist()"
   ]
  },
  {
   "cell_type": "code",
   "execution_count": 49,
   "metadata": {},
   "outputs": [
    {
     "data": {
      "text/html": [
       "<div>\n",
       "<style>\n",
       "    .dataframe thead tr:only-child th {\n",
       "        text-align: right;\n",
       "    }\n",
       "\n",
       "    .dataframe thead th {\n",
       "        text-align: left;\n",
       "    }\n",
       "\n",
       "    .dataframe tbody tr th {\n",
       "        vertical-align: top;\n",
       "    }\n",
       "</style>\n",
       "<table border=\"1\" class=\"dataframe\">\n",
       "  <thead>\n",
       "    <tr style=\"text-align: right;\">\n",
       "      <th></th>\n",
       "      <th>train_id</th>\n",
       "      <th>name</th>\n",
       "      <th>item_condition_id</th>\n",
       "      <th>category_name</th>\n",
       "      <th>brand_name</th>\n",
       "      <th>price</th>\n",
       "      <th>shipping</th>\n",
       "      <th>item_description</th>\n",
       "      <th>general_cat</th>\n",
       "      <th>subcat_1</th>\n",
       "      <th>subcat_2</th>\n",
       "      <th>brand_name_index</th>\n",
       "      <th>general_cat_index</th>\n",
       "      <th>subcat_1_index</th>\n",
       "      <th>subcat_2_index</th>\n",
       "      <th>category_name_index</th>\n",
       "      <th>name_seq</th>\n",
       "      <th>item_description_seq</th>\n",
       "      <th>target</th>\n",
       "    </tr>\n",
       "  </thead>\n",
       "  <tbody>\n",
       "    <tr>\n",
       "      <th>0</th>\n",
       "      <td>0</td>\n",
       "      <td>MLB Cincinnati Reds T Shirt Size XL</td>\n",
       "      <td>3</td>\n",
       "      <td>Men/Tops/T-shirts</td>\n",
       "      <td>None</td>\n",
       "      <td>10.0</td>\n",
       "      <td>1</td>\n",
       "      <td>No description yet</td>\n",
       "      <td>Men</td>\n",
       "      <td>Tops</td>\n",
       "      <td>T-shirts</td>\n",
       "      <td>3361</td>\n",
       "      <td>5</td>\n",
       "      <td>103</td>\n",
       "      <td>774</td>\n",
       "      <td>829</td>\n",
       "      <td>[2, 3, 4, 5, 6, 7, 8]</td>\n",
       "      <td>[2, 3, 4]</td>\n",
       "      <td>-0.369464</td>\n",
       "    </tr>\n",
       "    <tr>\n",
       "      <th>1</th>\n",
       "      <td>1</td>\n",
       "      <td>Razer BlackWidow Chroma Keyboard</td>\n",
       "      <td>3</td>\n",
       "      <td>Electronics/Computers &amp; Tablets/Components &amp; P...</td>\n",
       "      <td>Razer</td>\n",
       "      <td>52.0</td>\n",
       "      <td>0</td>\n",
       "      <td>This keyboard is in great condition and works ...</td>\n",
       "      <td>Electronics</td>\n",
       "      <td>Computers &amp; Tablets</td>\n",
       "      <td>Components &amp; Parts</td>\n",
       "      <td>3890</td>\n",
       "      <td>1</td>\n",
       "      <td>30</td>\n",
       "      <td>215</td>\n",
       "      <td>86</td>\n",
       "      <td>[9, 10, 11, 12]</td>\n",
       "      <td>[5, 6, 7, 8, 9, 10, 11, 12, 13, 14, 15, 16, 17...</td>\n",
       "      <td>0.044005</td>\n",
       "    </tr>\n",
       "    <tr>\n",
       "      <th>2</th>\n",
       "      <td>2</td>\n",
       "      <td>AVA-VIV Blouse</td>\n",
       "      <td>1</td>\n",
       "      <td>Women/Tops &amp; Blouses/Blouse</td>\n",
       "      <td>Target</td>\n",
       "      <td>10.0</td>\n",
       "      <td>1</td>\n",
       "      <td>Adorable top with a hint of lace and a key hol...</td>\n",
       "      <td>Women</td>\n",
       "      <td>Tops &amp; Blouses</td>\n",
       "      <td>Blouse</td>\n",
       "      <td>4589</td>\n",
       "      <td>10</td>\n",
       "      <td>104</td>\n",
       "      <td>97</td>\n",
       "      <td>1278</td>\n",
       "      <td>[13, 14, 15]</td>\n",
       "      <td>[36, 37, 38, 39, 40, 17, 41, 11, 39, 42, 43, 8...</td>\n",
       "      <td>-0.369464</td>\n",
       "    </tr>\n",
       "    <tr>\n",
       "      <th>3</th>\n",
       "      <td>3</td>\n",
       "      <td>Leather Horse Statues</td>\n",
       "      <td>1</td>\n",
       "      <td>Home/Home Décor/Home Décor Accents</td>\n",
       "      <td>None</td>\n",
       "      <td>35.0</td>\n",
       "      <td>1</td>\n",
       "      <td>New with tags. Leather horses. Retail for [rm]...</td>\n",
       "      <td>Home</td>\n",
       "      <td>Home Décor</td>\n",
       "      <td>Home Décor Accents</td>\n",
       "      <td>3361</td>\n",
       "      <td>3</td>\n",
       "      <td>55</td>\n",
       "      <td>410</td>\n",
       "      <td>503</td>\n",
       "      <td>[16, 17, 18]</td>\n",
       "      <td>[54, 38, 55, 20, 56, 57, 20, 58, 59, 60, 61, 2...</td>\n",
       "      <td>-0.057699</td>\n",
       "    </tr>\n",
       "    <tr>\n",
       "      <th>4</th>\n",
       "      <td>4</td>\n",
       "      <td>24K GOLD plated rose</td>\n",
       "      <td>1</td>\n",
       "      <td>Women/Jewelry/Necklaces</td>\n",
       "      <td>None</td>\n",
       "      <td>44.0</td>\n",
       "      <td>0</td>\n",
       "      <td>Complete with certificate of authenticity</td>\n",
       "      <td>Women</td>\n",
       "      <td>Jewelry</td>\n",
       "      <td>Necklaces</td>\n",
       "      <td>3361</td>\n",
       "      <td>10</td>\n",
       "      <td>58</td>\n",
       "      <td>542</td>\n",
       "      <td>1205</td>\n",
       "      <td>[19, 20, 21, 22, 23]</td>\n",
       "      <td>[80, 38, 81, 17, 82]</td>\n",
       "      <td>0.000978</td>\n",
       "    </tr>\n",
       "  </tbody>\n",
       "</table>\n",
       "</div>"
      ],
      "text/plain": [
       "   train_id                                 name  item_condition_id  \\\n",
       "0         0  MLB Cincinnati Reds T Shirt Size XL                  3   \n",
       "1         1     Razer BlackWidow Chroma Keyboard                  3   \n",
       "2         2                       AVA-VIV Blouse                  1   \n",
       "3         3                Leather Horse Statues                  1   \n",
       "4         4                 24K GOLD plated rose                  1   \n",
       "\n",
       "                                       category_name brand_name  price  \\\n",
       "0                                  Men/Tops/T-shirts       None   10.0   \n",
       "1  Electronics/Computers & Tablets/Components & P...      Razer   52.0   \n",
       "2                        Women/Tops & Blouses/Blouse     Target   10.0   \n",
       "3                 Home/Home Décor/Home Décor Accents       None   35.0   \n",
       "4                            Women/Jewelry/Necklaces       None   44.0   \n",
       "\n",
       "   shipping                                   item_description  general_cat  \\\n",
       "0         1                                 No description yet          Men   \n",
       "1         0  This keyboard is in great condition and works ...  Electronics   \n",
       "2         1  Adorable top with a hint of lace and a key hol...        Women   \n",
       "3         1  New with tags. Leather horses. Retail for [rm]...         Home   \n",
       "4         0          Complete with certificate of authenticity        Women   \n",
       "\n",
       "              subcat_1            subcat_2  brand_name_index  \\\n",
       "0                 Tops            T-shirts              3361   \n",
       "1  Computers & Tablets  Components & Parts              3890   \n",
       "2       Tops & Blouses              Blouse              4589   \n",
       "3           Home Décor  Home Décor Accents              3361   \n",
       "4              Jewelry           Necklaces              3361   \n",
       "\n",
       "   general_cat_index  subcat_1_index  subcat_2_index  category_name_index  \\\n",
       "0                  5             103             774                  829   \n",
       "1                  1              30             215                   86   \n",
       "2                 10             104              97                 1278   \n",
       "3                  3              55             410                  503   \n",
       "4                 10              58             542                 1205   \n",
       "\n",
       "                name_seq                               item_description_seq  \\\n",
       "0  [2, 3, 4, 5, 6, 7, 8]                                          [2, 3, 4]   \n",
       "1        [9, 10, 11, 12]  [5, 6, 7, 8, 9, 10, 11, 12, 13, 14, 15, 16, 17...   \n",
       "2           [13, 14, 15]  [36, 37, 38, 39, 40, 17, 41, 11, 39, 42, 43, 8...   \n",
       "3           [16, 17, 18]  [54, 38, 55, 20, 56, 57, 20, 58, 59, 60, 61, 2...   \n",
       "4   [19, 20, 21, 22, 23]                               [80, 38, 81, 17, 82]   \n",
       "\n",
       "     target  \n",
       "0 -0.369464  \n",
       "1  0.044005  \n",
       "2 -0.369464  \n",
       "3 -0.057699  \n",
       "4  0.000978  "
      ]
     },
     "execution_count": 49,
     "metadata": {},
     "output_type": "execute_result"
    }
   ],
   "source": [
    "train.head()"
   ]
  },
  {
   "cell_type": "code",
   "execution_count": 50,
   "metadata": {},
   "outputs": [
    {
     "name": "stderr",
     "output_type": "stream",
     "text": [
      "/Users/setup/anaconda3/lib/python3.6/site-packages/sklearn/model_selection/_split.py:2026: FutureWarning: From version 0.21, test_size will always complement train_size unless both are specified.\n",
      "  FutureWarning)\n"
     ]
    },
    {
     "name": "stdout",
     "output_type": "stream",
     "text": [
      "(1467709, 19)\n",
      "(14826, 19)\n"
     ]
    }
   ],
   "source": [
    "#EXTRACT DEVELOPTMENT TEST\n",
    "dtrain, dvalid = train_test_split(train, random_state=123, train_size=0.99)\n",
    "print(dtrain.shape)\n",
    "print(dvalid.shape)"
   ]
  },
  {
   "cell_type": "code",
   "execution_count": 55,
   "metadata": {
    "collapsed": true
   },
   "outputs": [],
   "source": [
    "def pad(tensor, length):\n",
    "    if length > tensor.size(0):\n",
    "        # \n",
    "        return torch.cat([tensor, tensor.new(length - tensor.size(0), *tensor.size()[1:]).zero_()])\n",
    "    else:\n",
    "        # omit if tensor is longer than specify length\n",
    "        return torch.split(tensor, length, dim=0)[0]"
   ]
  },
  {
   "cell_type": "code",
   "execution_count": 56,
   "metadata": {
    "collapsed": true
   },
   "outputs": [],
   "source": [
    "class ToTensor(object):\n",
    "    \"\"\"Convert ndarrays in sample to Tensors.\"\"\"\n",
    "\n",
    "    def __call__(self, sample):\n",
    "        name, item_desc,brand_name,cat_name,general_category,subcat1_category,subcat2_category, \\\n",
    "        item_condition,shipping,target = sample['name'], sample['item_desc'], sample['brand_name'], \\\n",
    "        sample['cat_name'], sample['general_category'], sample['subcat1_category'], sample['subcat2_category'], \\\n",
    "        sample['item_condition'], sample['shipping'],sample['target']\n",
    "        #item_desc, brand_name = sample['item_desc'], sample['brand_name']       \n",
    "        return {'name': pad(torch.from_numpy(np.asarray(name)).long().view(-1),MAX_NAME_SEQ),\n",
    "                'item_desc': pad(torch.from_numpy(np.asarray(item_desc)).long().view(-1),MAX_ITEM_DESC_SEQ),\n",
    "               'brand_name':torch.from_numpy(np.asarray(brand_name)),\n",
    "               'cat_name':torch.from_numpy(np.asarray(cat_name)),\n",
    "               'general_category':torch.from_numpy(np.asarray(general_category)),\n",
    "               'subcat1_category':torch.from_numpy(np.asarray(subcat1_category)),\n",
    "               'subcat2_category':torch.from_numpy(np.asarray(subcat2_category)),\n",
    "               'item_condition':torch.from_numpy(np.asarray(item_condition)),\n",
    "               'shipping':torch.torch.from_numpy(np.asarray(shipping)),\n",
    "               'target':torch.from_numpy(np.asarray(target))}"
   ]
  },
  {
   "cell_type": "code",
   "execution_count": 68,
   "metadata": {},
   "outputs": [],
   "source": [
    "class MercariDataset(Dataset):\n",
    "    \n",
    "    def __init__(self, data_pd, transform=None):\n",
    "        self.mercari_frame = data_pd\n",
    "        self.transform = transform\n",
    "    \n",
    "    def __len__(self):\n",
    "        return len(self.mercari_frame)\n",
    "    \n",
    "    def __getitem__(self, idx):\n",
    "        name = [self.mercari_frame.name_seq.iloc[idx]]\n",
    "        item_desc = [self.mercari_frame.item_description_seq.iloc[idx]]\n",
    "        brand_name = [self.mercari_frame.brand_name_index.iloc[idx]]\n",
    "        cat_name = [self.mercari_frame.category_name_index.iloc[idx]]\n",
    "        general_category = [self.mercari_frame.general_cat_index.iloc[idx]]\n",
    "        subcat1_category = [self.mercari_frame.subcat_1_index.iloc[idx]]\n",
    "        subcat2_category = [self.mercari_frame.subcat_2_index.iloc[idx]]\n",
    "        item_condition = [self.mercari_frame.item_condition_id.iloc[idx]]\n",
    "        shipping = [self.mercari_frame.shipping.iloc[idx]]\n",
    "        target = [self.mercari_frame.target.iloc[idx]]\n",
    "        sample = {'name': name,\n",
    "                'item_desc': item_desc,\n",
    "               'brand_name': brand_name,\n",
    "               'cat_name': cat_name,   \n",
    "               'general_category': general_category,\n",
    "               'subcat1_category': subcat1_category,\n",
    "               'subcat2_category': subcat2_category,\n",
    "               'item_condition': item_condition,\n",
    "               'shipping': shipping,\n",
    "               'target': target}\n",
    "\n",
    "        if self.transform:\n",
    "            sample = self.transform(sample)\n",
    "        \n",
    "        return sample"
   ]
  },
  {
   "cell_type": "code",
   "execution_count": 70,
   "metadata": {
    "collapsed": true
   },
   "outputs": [],
   "source": [
    "mercari_datasets = {'train': MercariDataset(dtrain,transform=transforms.Compose([ToTensor()])), \n",
    "                    'val': MercariDataset(dvalid,transform=transforms.Compose([ToTensor()]))\n",
    "                   }\n",
    "dataset_sizes = {x: len(mercari_datasets[x]) for x in ['train', 'val']}"
   ]
  },
  {
   "cell_type": "code",
   "execution_count": 114,
   "metadata": {
    "collapsed": true
   },
   "outputs": [],
   "source": [
    "mercari_dataloaders = {x: torch.utils.data.DataLoader(mercari_datasets[x], batch_size=50, shuffle=True) \n",
    "                                                           for x in ['train', 'val']}"
   ]
  },
  {
   "cell_type": "code",
   "execution_count": 115,
   "metadata": {},
   "outputs": [
    {
     "data": {
      "text/plain": [
       "{'train': <torch.utils.data.dataloader.DataLoader at 0x17766f320>,\n",
       " 'val': <torch.utils.data.dataloader.DataLoader at 0x1835aed68>}"
      ]
     },
     "execution_count": 115,
     "metadata": {},
     "output_type": "execute_result"
    }
   ],
   "source": [
    "mercari_dataloaders"
   ]
  },
  {
   "cell_type": "code",
   "execution_count": 116,
   "metadata": {
    "collapsed": true
   },
   "outputs": [],
   "source": [
    "# Some Useful Time functions\n",
    "def asMinutes(s):\n",
    "    m = math.floor(s / 60)\n",
    "    s -= m * 60\n",
    "    return '%dm %ds' % (m, s)\n",
    "\n",
    "\n",
    "def timeSince(since, percent):\n",
    "    now = time.time()\n",
    "    s = now - since\n",
    "    es = s / (percent)\n",
    "    rs = es - s\n",
    "    return '%s (- %s)' % (asMinutes(s), asMinutes(rs))"
   ]
  },
  {
   "cell_type": "code",
   "execution_count": 136,
   "metadata": {
    "collapsed": true
   },
   "outputs": [],
   "source": [
    "# Model\n",
    "\n",
    "class RegressionNeural(nn.Module):\n",
    "    def __init__(self, max_sizes):\n",
    "        super(RegressionNeural, self).__init__()\n",
    "        # declare embedding\n",
    "        self.name_embedding = nn.Embedding(np.asscalar(max_sizes['max_text']), 50)\n",
    "        self.item_embedding = nn.Embedding(np.asscalar(max_sizes['max_text']), 50)\n",
    "        self.brand_embedding = nn.Embedding(np.asscalar(max_sizes['max_brand']),10)\n",
    "        self.gencat_embedding = nn.Embedding(np.asscalar(max_sizes['max_gen_category']), 10)\n",
    "        self.subcat1_embedding = nn.Embedding(np.asscalar(max_sizes['max_subcat1_category']), 10)\n",
    "        self.subcat2_embedding = nn.Embedding(np.asscalar(max_sizes['max_subcat2_category']), 10)\n",
    "        self.condition_embedding = nn.Embedding(np.asscalar(max_sizes['max_condition']), 5)\n",
    "        # I am adding an embedding just based on Category name without separating it into the 3 pieces\n",
    "        self.catname_embedding = nn.Embedding(np.asscalar(max_sizes['max_cat_name']), 10)\n",
    "        \n",
    "        # convolution for name and item embedding\n",
    "        self.conv1_name = nn.Conv1d(50, 1, 2, stride=1)\n",
    "#         self.conv2_name = nn.Conv1d(16, 8, 2, stride=1)\n",
    "#         self.conv3_name = nn.Conv1d(8,4,2, stride=1)\n",
    "        \n",
    "        self.conv1_item_desc = nn.Conv1d(50, 1, 5, stride=5)\n",
    "#         self.conv2_item_desc = nn.Conv1d(64, 16, 5, stride=1)\n",
    "#         self.conv3_item_desc = nn.Conv1d(16, 4, 5, stride=1)\n",
    "        \n",
    "        self.dropout = nn.Dropout(p=0.2)\n",
    "        \n",
    "        self.input_fc1_count = 50 #1214 #206 #16+10+10+10+10+5+1\n",
    "        self.fc1 = nn.Linear(self.input_fc1_count, 64)\n",
    "        self.fc2 = nn.Linear(64, 32)\n",
    "        self.fc3 = nn.Linear(32, 1)\n",
    "        self.relu = nn.ReLU()\n",
    "        \n",
    "    def forward(self, x, batchsize):\n",
    "        embed_name = self.name_embedding(x['name'])\n",
    "        # I am swapping the Embedding size and the sequence length so that convolution is done across multiple words\n",
    "        # using all the embeddings.  Without this, the 1-D convolution was doing convolution using all the words but\n",
    "        # a slice of embeddings.  I don't think that is the correct way to do 1D convolution.\n",
    "        embed_name = F.relu(self.conv1_name(embed_name.transpose(1,2)))\n",
    "\n",
    "        embed_item = self.item_embedding(x['item_desc'])\n",
    "        embed_item = F.relu(self.conv1_item_desc(embed_item.transpose(1,2)))\n",
    "\n",
    "        embed_brand = self.brand_embedding(x['brand_name'])\n",
    "        embed_gencat = self.gencat_embedding(x['general_category'])\n",
    "        embed_subcat1 = self.subcat1_embedding(x['subcat1_category'])\n",
    "        embed_subcat2 = self.subcat2_embedding(x['subcat2_category'])\n",
    "        embed_condition = self.condition_embedding(x['item_condition'])\n",
    "        embed_catname = self.catname_embedding(x['cat_name'])\n",
    "\n",
    "        # 10 + 10 + 5 + 25 + 10 + 1 Figure out this input shape why 50\n",
    "        out = torch.cat((embed_brand.view(batchsize,-1), embed_catname.view(batchsize, -1),\n",
    "                         embed_condition.view(batchsize,-1), embed_name.view(batchsize,-1),\n",
    "                         embed_item.view(batchsize,-1),x['shipping']),1)\n",
    "\n",
    "        out = (self.fc1(out))\n",
    "        out = F.relu(self.dropout(out))\n",
    "        out = self.fc2(out)\n",
    "        out = self.dropout(out)\n",
    "        out = self.fc3(out)\n",
    "        return out"
   ]
  },
  {
   "cell_type": "code",
   "execution_count": 137,
   "metadata": {},
   "outputs": [],
   "source": [
    "max_sizes = {'max_text':MAX_TEXT,'max_name_seq':MAX_NAME_SEQ,'max_item_desc_seq':MAX_ITEM_DESC_SEQ, \\\n",
    "             'max_brand':MAX_BRAND,'max_cat_name':MAX_CATEGORY_NAME,'max_gen_category':MAX_GEN_CATEGORY,\\\n",
    "             'max_subcat1_category':MAX_SUB_CAT1_CATEGORY,'max_subcat2_category':MAX_SUB_CAT2_CATEGORY,\\\n",
    "             'max_condition':MAX_CONDITION} \n",
    "\n",
    "deep_learn_model = RegressionNeural(max_sizes)"
   ]
  },
  {
   "cell_type": "code",
   "execution_count": 138,
   "metadata": {},
   "outputs": [],
   "source": [
    "def train_model(model, criterion, optimizer, num_epochs=1, print_every = 100):\n",
    "    start = time.time()\n",
    "    \n",
    "    best_acc = 0.0\n",
    "    print_loss_total = 0.0\n",
    "    \n",
    "    for epoch in range(num_epochs):\n",
    "        print('Epoch {}/{}'.format(epoch, num_epochs - 1))\n",
    "        print('-' * 10)\n",
    "        \n",
    "        # Each epoch has a training and validation phrase\n",
    "        for phrase in ['train', 'val']:\n",
    "            if phrase == 'train':\n",
    "                model.train(True) # Train Mode\n",
    "            else:\n",
    "                model.train(False) # Evaluation Mode\n",
    "            \n",
    "            running_loss = 0.0\n",
    "            num_batches = dataset_sizes[phrase]/50.\n",
    "            \n",
    "            # Iterate over data, sample_batched is a dictionary of tensor\n",
    "            for i_batch, sample_batched in enumerate(mercari_dataloaders[phrase]):\n",
    "                \n",
    "                inputs = {'name':Variable(sample_batched['name']), 'item_desc':Variable(sample_batched['item_desc']), \\\n",
    "                    'brand_name':Variable(sample_batched['brand_name']), \\\n",
    "                    'cat_name':Variable(sample_batched['cat_name']), \\\n",
    "                    'general_category':Variable(sample_batched['general_category']), \\\n",
    "                    'subcat1_category':Variable(sample_batched['subcat1_category']), \\\n",
    "                    'subcat2_category':Variable(sample_batched['subcat2_category']), \\\n",
    "                    'item_condition':Variable(sample_batched['item_condition']), \\\n",
    "                    'shipping':Variable(sample_batched['shipping'].float())}\n",
    "                \n",
    "                # prices is our label\n",
    "                prices = Variable(sample_batched['target'].float())\n",
    "                batch_size = len(sample_batched['shipping'])\n",
    "                \n",
    "                # zero gradient\n",
    "                optimizer.zero_grad()\n",
    "                \n",
    "                # forward pass\n",
    "                outputs = model(inputs, batch_size)\n",
    "                loss = criterion(outputs, prices)\n",
    "                \n",
    "                # backward prop and update\n",
    "                if phrase == 'train':\n",
    "                    loss.backward()\n",
    "                    optimizer.step()\n",
    "                    \n",
    "                # statistic only\n",
    "                running_loss += loss.data[0]\n",
    "                print_loss_total += loss.data[0]\n",
    "                \n",
    "                if (i_batch+1) % print_every == 0:\n",
    "                    print_loss_avg = print_loss_total / print_every\n",
    "                    print_loss_total = 0\n",
    "                    #print (i_batch / num_batches, i_batch, num_batches)\n",
    "                    print('%s (%d %d%%) %.4f' % (timeSince(start, i_batch / num_batches), \\\n",
    "                                                 i_batch, i_batch / num_batches*100, print_loss_avg))\n",
    "                    \n",
    "            epoch_loss = running_loss / num_batches\n",
    "            \n",
    "            print('{} Loss: {:.4f}'.format(phrase,epoch_loss))\n",
    "            \n",
    "        print()\n",
    "    time_elapsed = time.time() - start\n",
    "    print('Training complete in {:.0f}m {:.0f}s'.format(time_elapsed // 60, time_elapsed % 60))\n",
    "    # load best model weights\n",
    "    #model.load_state_dict(best_model_wts)\n",
    "    return model                         "
   ]
  },
  {
   "cell_type": "code",
   "execution_count": 139,
   "metadata": {},
   "outputs": [
    {
     "name": "stdout",
     "output_type": "stream",
     "text": [
      "Epoch 0/0\n",
      "----------\n",
      "0m 7s (- 38m 4s) (99 0%) 0.0547\n",
      "0m 15s (- 37m 26s) (199 0%) 0.0462\n",
      "0m 22s (- 36m 47s) (299 1%) 0.0413\n",
      "0m 30s (- 36m 33s) (399 1%) 0.0418\n",
      "0m 37s (- 36m 7s) (499 1%) 0.0408\n",
      "0m 44s (- 35m 59s) (599 2%) 0.0413\n",
      "0m 52s (- 35m 49s) (699 2%) 0.0394\n",
      "0m 59s (- 35m 36s) (799 2%) 0.0383\n",
      "1m 7s (- 35m 28s) (899 3%) 0.0398\n",
      "1m 14s (- 35m 19s) (999 3%) 0.0386\n",
      "1m 22s (- 35m 16s) (1099 3%) 0.0417\n",
      "1m 30s (- 35m 16s) (1199 4%) 0.0379\n",
      "1m 38s (- 35m 17s) (1299 4%) 0.0395\n",
      "1m 45s (- 35m 15s) (1399 4%) 0.0382\n",
      "1m 53s (- 35m 12s) (1499 5%) 0.0388\n",
      "2m 1s (- 35m 7s) (1599 5%) 0.0373\n",
      "2m 9s (- 35m 5s) (1699 5%) 0.0391\n",
      "2m 17s (- 35m 5s) (1799 6%) 0.0379\n",
      "2m 25s (- 35m 5s) (1899 6%) 0.0366\n",
      "2m 33s (- 35m 6s) (1999 6%) 0.0391\n",
      "2m 42s (- 35m 4s) (2099 7%) 0.0386\n",
      "2m 50s (- 35m 4s) (2199 7%) 0.0389\n",
      "2m 58s (- 35m 2s) (2299 7%) 0.0393\n",
      "3m 6s (- 34m 59s) (2399 8%) 0.0357\n",
      "3m 15s (- 34m 58s) (2499 8%) 0.0376\n",
      "3m 23s (- 34m 57s) (2599 8%) 0.0369\n",
      "3m 32s (- 34m 54s) (2699 9%) 0.0374\n",
      "3m 40s (- 34m 51s) (2799 9%) 0.0362\n",
      "3m 48s (- 34m 47s) (2899 9%) 0.0369\n",
      "3m 57s (- 34m 43s) (2999 10%) 0.0355\n",
      "4m 5s (- 34m 41s) (3099 10%) 0.0379\n",
      "4m 14s (- 34m 41s) (3199 10%) 0.0361\n",
      "4m 23s (- 34m 38s) (3299 11%) 0.0366\n",
      "4m 31s (- 34m 34s) (3399 11%) 0.0359\n",
      "4m 40s (- 34m 31s) (3499 11%) 0.0367\n",
      "4m 48s (- 34m 27s) (3599 12%) 0.0372\n",
      "4m 57s (- 34m 23s) (3699 12%) 0.0367\n",
      "5m 6s (- 34m 20s) (3799 12%) 0.0376\n",
      "5m 15s (- 34m 16s) (3899 13%) 0.0369\n",
      "5m 23s (- 34m 13s) (3999 13%) 0.0358\n",
      "5m 32s (- 34m 10s) (4099 13%) 0.0371\n",
      "5m 41s (- 34m 6s) (4199 14%) 0.0355\n",
      "5m 50s (- 34m 4s) (4299 14%) 0.0359\n",
      "5m 59s (- 34m 1s) (4399 14%) 0.0373\n",
      "6m 8s (- 33m 58s) (4499 15%) 0.0367\n",
      "6m 17s (- 33m 54s) (4599 15%) 0.0351\n",
      "6m 26s (- 33m 50s) (4699 16%) 0.0373\n",
      "6m 36s (- 33m 47s) (4799 16%) 0.0379\n",
      "6m 45s (- 33m 45s) (4899 16%) 0.0358\n",
      "6m 55s (- 33m 42s) (4999 17%) 0.0350\n",
      "7m 4s (- 33m 38s) (5099 17%) 0.0365\n",
      "7m 13s (- 33m 33s) (5199 17%) 0.0363\n",
      "7m 22s (- 33m 28s) (5299 18%) 0.0369\n",
      "7m 31s (- 33m 23s) (5399 18%) 0.0370\n",
      "7m 40s (- 33m 18s) (5499 18%) 0.0355\n",
      "7m 49s (- 33m 13s) (5599 19%) 0.0367\n",
      "7m 58s (- 33m 8s) (5699 19%) 0.0369\n",
      "8m 8s (- 33m 2s) (5799 19%) 0.0359\n",
      "8m 17s (- 32m 57s) (5899 20%) 0.0346\n",
      "8m 26s (- 32m 52s) (5999 20%) 0.0360\n",
      "8m 35s (- 32m 47s) (6099 20%) 0.0355\n",
      "8m 45s (- 32m 42s) (6199 21%) 0.0378\n",
      "8m 54s (- 32m 37s) (6299 21%) 0.0368\n",
      "9m 4s (- 32m 31s) (6399 21%) 0.0365\n",
      "9m 13s (- 32m 26s) (6499 22%) 0.0369\n",
      "9m 23s (- 32m 21s) (6599 22%) 0.0367\n",
      "9m 32s (- 32m 16s) (6699 22%) 0.0367\n",
      "9m 42s (- 32m 11s) (6799 23%) 0.0365\n",
      "9m 51s (- 32m 5s) (6899 23%) 0.0356\n",
      "10m 1s (- 32m 0s) (6999 23%) 0.0358\n",
      "10m 11s (- 31m 55s) (7099 24%) 0.0371\n",
      "10m 20s (- 31m 50s) (7199 24%) 0.0351\n",
      "10m 30s (- 31m 45s) (7299 24%) 0.0377\n",
      "10m 40s (- 31m 39s) (7399 25%) 0.0361\n",
      "10m 50s (- 31m 34s) (7499 25%) 0.0363\n",
      "10m 59s (- 31m 29s) (7599 25%) 0.0365\n",
      "11m 9s (- 31m 23s) (7699 26%) 0.0357\n",
      "11m 19s (- 31m 18s) (7799 26%) 0.0367\n",
      "11m 29s (- 31m 12s) (7899 26%) 0.0343\n",
      "11m 39s (- 31m 6s) (7999 27%) 0.0371\n",
      "11m 49s (- 31m 0s) (8099 27%) 0.0365\n",
      "11m 59s (- 30m 55s) (8199 27%) 0.0367\n",
      "12m 9s (- 30m 49s) (8299 28%) 0.0355\n",
      "12m 19s (- 30m 43s) (8399 28%) 0.0363\n",
      "12m 29s (- 30m 37s) (8499 28%) 0.0355\n",
      "12m 39s (- 30m 32s) (8599 29%) 0.0348\n",
      "12m 48s (- 30m 25s) (8699 29%) 0.0373\n",
      "12m 59s (- 30m 19s) (8799 29%) 0.0348\n",
      "13m 9s (- 30m 13s) (8899 30%) 0.0375\n",
      "13m 19s (- 30m 7s) (8999 30%) 0.0358\n",
      "13m 29s (- 30m 1s) (9099 30%) 0.0361\n",
      "13m 39s (- 29m 55s) (9199 31%) 0.0369\n",
      "13m 49s (- 29m 49s) (9299 31%) 0.0359\n",
      "14m 0s (- 29m 43s) (9399 32%) 0.0373\n",
      "14m 10s (- 29m 37s) (9499 32%) 0.0356\n",
      "14m 20s (- 29m 31s) (9599 32%) 0.0362\n",
      "14m 30s (- 29m 24s) (9699 33%) 0.0370\n",
      "14m 41s (- 29m 18s) (9799 33%) 0.0369\n",
      "14m 51s (- 29m 12s) (9899 33%) 0.0350\n",
      "15m 2s (- 29m 6s) (9999 34%) 0.0369\n",
      "15m 12s (- 28m 59s) (10099 34%) 0.0364\n",
      "15m 22s (- 28m 53s) (10199 34%) 0.0368\n",
      "15m 33s (- 28m 46s) (10299 35%) 0.0368\n",
      "15m 43s (- 28m 40s) (10399 35%) 0.0359\n",
      "15m 54s (- 28m 33s) (10499 35%) 0.0368\n",
      "16m 4s (- 28m 27s) (10599 36%) 0.0381\n",
      "16m 15s (- 28m 20s) (10699 36%) 0.0351\n",
      "16m 25s (- 28m 13s) (10799 36%) 0.0363\n",
      "16m 36s (- 28m 6s) (10899 37%) 0.0380\n",
      "16m 46s (- 28m 0s) (10999 37%) 0.0357\n",
      "16m 57s (- 27m 53s) (11099 37%) 0.0363\n",
      "17m 8s (- 27m 46s) (11199 38%) 0.0371\n",
      "17m 18s (- 27m 40s) (11299 38%) 0.0361\n",
      "17m 29s (- 27m 33s) (11399 38%) 0.0360\n",
      "17m 40s (- 27m 26s) (11499 39%) 0.0369\n",
      "17m 50s (- 27m 19s) (11599 39%) 0.0361\n",
      "18m 1s (- 27m 12s) (11699 39%) 0.0343\n",
      "18m 12s (- 27m 5s) (11799 40%) 0.0359\n",
      "18m 23s (- 26m 58s) (11899 40%) 0.0354\n",
      "18m 34s (- 26m 51s) (11999 40%) 0.0362\n",
      "18m 44s (- 26m 44s) (12099 41%) 0.0365\n",
      "18m 55s (- 26m 37s) (12199 41%) 0.0353\n",
      "19m 6s (- 26m 29s) (12299 41%) 0.0362\n",
      "19m 17s (- 26m 22s) (12399 42%) 0.0346\n",
      "19m 28s (- 26m 15s) (12499 42%) 0.0341\n",
      "19m 39s (- 26m 8s) (12599 42%) 0.0358\n",
      "19m 50s (- 26m 0s) (12699 43%) 0.0347\n",
      "20m 0s (- 25m 53s) (12799 43%) 0.0349\n",
      "20m 11s (- 25m 46s) (12899 43%) 0.0343\n",
      "20m 22s (- 25m 38s) (12999 44%) 0.0353\n",
      "20m 33s (- 25m 31s) (13099 44%) 0.0344\n",
      "20m 44s (- 25m 23s) (13199 44%) 0.0352\n",
      "20m 55s (- 25m 16s) (13299 45%) 0.0355\n",
      "21m 6s (- 25m 8s) (13399 45%) 0.0351\n",
      "21m 17s (- 25m 1s) (13499 45%) 0.0346\n",
      "21m 29s (- 24m 53s) (13599 46%) 0.0333\n",
      "21m 40s (- 24m 45s) (13699 46%) 0.0361\n",
      "21m 51s (- 24m 38s) (13799 47%) 0.0365\n",
      "22m 2s (- 24m 30s) (13899 47%) 0.0350\n",
      "22m 13s (- 24m 22s) (13999 47%) 0.0356\n",
      "22m 24s (- 24m 14s) (14099 48%) 0.0354\n",
      "22m 35s (- 24m 7s) (14199 48%) 0.0363\n",
      "22m 47s (- 23m 59s) (14299 48%) 0.0374\n",
      "22m 58s (- 23m 51s) (14399 49%) 0.0358\n",
      "23m 9s (- 23m 43s) (14499 49%) 0.0363\n",
      "23m 20s (- 23m 35s) (14599 49%) 0.0363\n",
      "23m 32s (- 23m 28s) (14699 50%) 0.0357\n",
      "23m 43s (- 23m 20s) (14799 50%) 0.0367\n",
      "23m 55s (- 23m 12s) (14899 50%) 0.0358\n",
      "24m 6s (- 23m 4s) (14999 51%) 0.0354\n",
      "24m 17s (- 22m 56s) (15099 51%) 0.0360\n",
      "24m 29s (- 22m 48s) (15199 51%) 0.0350\n",
      "24m 40s (- 22m 40s) (15299 52%) 0.0367\n",
      "24m 51s (- 22m 32s) (15399 52%) 0.0362\n",
      "25m 3s (- 22m 23s) (15499 52%) 0.0363\n",
      "25m 14s (- 22m 15s) (15599 53%) 0.0345\n",
      "25m 26s (- 22m 7s) (15699 53%) 0.0336\n",
      "25m 38s (- 21m 59s) (15799 53%) 0.0359\n",
      "25m 49s (- 21m 51s) (15899 54%) 0.0355\n",
      "26m 1s (- 21m 43s) (15999 54%) 0.0356\n",
      "26m 12s (- 21m 34s) (16099 54%) 0.0365\n",
      "26m 24s (- 21m 26s) (16199 55%) 0.0347\n",
      "26m 35s (- 21m 18s) (16299 55%) 0.0350\n",
      "26m 47s (- 21m 9s) (16399 55%) 0.0336\n",
      "26m 59s (- 21m 1s) (16499 56%) 0.0342\n",
      "27m 10s (- 20m 53s) (16599 56%) 0.0343\n",
      "27m 22s (- 20m 44s) (16699 56%) 0.0374\n",
      "27m 34s (- 20m 36s) (16799 57%) 0.0372\n",
      "27m 46s (- 20m 27s) (16899 57%) 0.0352\n",
      "27m 57s (- 20m 19s) (16999 57%) 0.0337\n",
      "28m 9s (- 20m 10s) (17099 58%) 0.0343\n",
      "28m 21s (- 20m 2s) (17199 58%) 0.0354\n",
      "28m 32s (- 19m 53s) (17299 58%) 0.0360\n",
      "28m 44s (- 19m 45s) (17399 59%) 0.0366\n",
      "28m 56s (- 19m 36s) (17499 59%) 0.0343\n",
      "29m 8s (- 19m 27s) (17599 59%) 0.0362\n",
      "29m 20s (- 19m 19s) (17699 60%) 0.0365\n",
      "29m 31s (- 19m 10s) (17799 60%) 0.0350\n",
      "29m 43s (- 19m 1s) (17899 60%) 0.0348\n",
      "29m 55s (- 18m 52s) (17999 61%) 0.0344\n",
      "30m 7s (- 18m 44s) (18099 61%) 0.0349\n",
      "30m 19s (- 18m 35s) (18199 61%) 0.0356\n",
      "30m 31s (- 18m 26s) (18299 62%) 0.0351\n",
      "30m 43s (- 18m 17s) (18399 62%) 0.0345\n",
      "30m 55s (- 18m 8s) (18499 63%) 0.0355\n",
      "31m 7s (- 17m 59s) (18599 63%) 0.0345\n",
      "31m 19s (- 17m 50s) (18699 63%) 0.0332\n",
      "31m 31s (- 17m 41s) (18799 64%) 0.0349\n",
      "31m 43s (- 17m 32s) (18899 64%) 0.0354\n",
      "31m 55s (- 17m 23s) (18999 64%) 0.0354\n",
      "32m 7s (- 17m 14s) (19099 65%) 0.0354\n",
      "32m 19s (- 17m 5s) (19199 65%) 0.0359\n",
      "32m 31s (- 16m 56s) (19299 65%) 0.0347\n",
      "32m 43s (- 16m 47s) (19399 66%) 0.0330\n",
      "32m 55s (- 16m 38s) (19499 66%) 0.0338\n",
      "33m 8s (- 16m 29s) (19599 66%) 0.0346\n",
      "33m 20s (- 16m 20s) (19699 67%) 0.0357\n",
      "33m 32s (- 16m 11s) (19799 67%) 0.0347\n",
      "33m 44s (- 16m 2s) (19899 67%) 0.0334\n",
      "33m 56s (- 15m 52s) (19999 68%) 0.0363\n",
      "34m 9s (- 15m 43s) (20099 68%) 0.0339\n",
      "34m 21s (- 15m 34s) (20199 68%) 0.0341\n",
      "34m 33s (- 15m 25s) (20299 69%) 0.0341\n",
      "34m 46s (- 15m 15s) (20399 69%) 0.0341\n",
      "34m 58s (- 15m 6s) (20499 69%) 0.0360\n",
      "35m 10s (- 14m 57s) (20599 70%) 0.0332\n",
      "35m 23s (- 14m 47s) (20699 70%) 0.0352\n",
      "35m 35s (- 14m 38s) (20799 70%) 0.0354\n",
      "35m 47s (- 14m 28s) (20899 71%) 0.0347\n",
      "36m 0s (- 14m 19s) (20999 71%) 0.0347\n",
      "36m 12s (- 14m 10s) (21099 71%) 0.0356\n",
      "36m 24s (- 14m 0s) (21199 72%) 0.0339\n",
      "36m 37s (- 13m 51s) (21299 72%) 0.0338\n",
      "36m 49s (- 13m 41s) (21399 72%) 0.0350\n",
      "37m 2s (- 13m 31s) (21499 73%) 0.0352\n",
      "37m 14s (- 13m 22s) (21599 73%) 0.0357\n",
      "37m 27s (- 13m 12s) (21699 73%) 0.0343\n"
     ]
    },
    {
     "name": "stdout",
     "output_type": "stream",
     "text": [
      "37m 39s (- 13m 3s) (21799 74%) 0.0357\n",
      "37m 52s (- 12m 53s) (21899 74%) 0.0363\n",
      "38m 4s (- 12m 43s) (21999 74%) 0.0349\n",
      "38m 17s (- 12m 34s) (22099 75%) 0.0357\n",
      "38m 29s (- 12m 24s) (22199 75%) 0.0354\n",
      "38m 42s (- 12m 14s) (22299 75%) 0.0346\n",
      "38m 55s (- 12m 5s) (22399 76%) 0.0336\n",
      "39m 7s (- 11m 55s) (22499 76%) 0.0347\n",
      "39m 20s (- 11m 45s) (22599 76%) 0.0338\n",
      "39m 32s (- 11m 35s) (22699 77%) 0.0342\n",
      "39m 45s (- 11m 25s) (22799 77%) 0.0343\n",
      "39m 58s (- 11m 16s) (22899 78%) 0.0352\n",
      "40m 10s (- 11m 6s) (22999 78%) 0.0366\n",
      "40m 23s (- 10m 56s) (23099 78%) 0.0347\n",
      "40m 36s (- 10m 46s) (23199 79%) 0.0331\n",
      "40m 49s (- 10m 36s) (23299 79%) 0.0344\n",
      "41m 1s (- 10m 26s) (23399 79%) 0.0354\n",
      "41m 14s (- 10m 16s) (23499 80%) 0.0362\n",
      "41m 27s (- 10m 6s) (23599 80%) 0.0345\n",
      "41m 40s (- 9m 56s) (23699 80%) 0.0363\n",
      "41m 52s (- 9m 46s) (23799 81%) 0.0355\n",
      "42m 5s (- 9m 36s) (23899 81%) 0.0327\n",
      "42m 18s (- 9m 26s) (23999 81%) 0.0352\n",
      "42m 31s (- 9m 16s) (24099 82%) 0.0339\n",
      "42m 44s (- 9m 6s) (24199 82%) 0.0334\n",
      "42m 56s (- 8m 56s) (24299 82%) 0.0341\n",
      "43m 9s (- 8m 45s) (24399 83%) 0.0364\n",
      "43m 22s (- 8m 35s) (24499 83%) 0.0341\n",
      "43m 35s (- 8m 25s) (24599 83%) 0.0347\n",
      "43m 48s (- 8m 15s) (24699 84%) 0.0354\n",
      "44m 1s (- 8m 5s) (24799 84%) 0.0350\n",
      "44m 14s (- 7m 54s) (24899 84%) 0.0352\n",
      "44m 27s (- 7m 44s) (24999 85%) 0.0341\n",
      "44m 40s (- 7m 34s) (25099 85%) 0.0337\n",
      "44m 53s (- 7m 24s) (25199 85%) 0.0332\n",
      "45m 6s (- 7m 13s) (25299 86%) 0.0335\n",
      "45m 19s (- 7m 3s) (25399 86%) 0.0345\n",
      "45m 32s (- 6m 53s) (25499 86%) 0.0363\n",
      "45m 46s (- 6m 42s) (25599 87%) 0.0348\n",
      "45m 59s (- 6m 32s) (25699 87%) 0.0332\n",
      "46m 12s (- 6m 22s) (25799 87%) 0.0339\n",
      "46m 25s (- 6m 11s) (25899 88%) 0.0324\n",
      "46m 38s (- 6m 1s) (25999 88%) 0.0334\n",
      "46m 51s (- 5m 50s) (26099 88%) 0.0337\n",
      "47m 4s (- 5m 40s) (26199 89%) 0.0330\n",
      "47m 18s (- 5m 29s) (26299 89%) 0.0340\n",
      "47m 31s (- 5m 19s) (26399 89%) 0.0345\n",
      "47m 44s (- 5m 8s) (26499 90%) 0.0332\n",
      "47m 57s (- 4m 58s) (26599 90%) 0.0327\n",
      "48m 10s (- 4m 47s) (26699 90%) 0.0355\n",
      "48m 24s (- 4m 36s) (26799 91%) 0.0352\n",
      "48m 37s (- 4m 26s) (26899 91%) 0.0344\n",
      "48m 50s (- 4m 15s) (26999 91%) 0.0338\n",
      "49m 4s (- 4m 5s) (27099 92%) 0.0352\n",
      "49m 17s (- 3m 54s) (27199 92%) 0.0331\n",
      "49m 30s (- 3m 43s) (27299 92%) 0.0336\n",
      "49m 44s (- 3m 32s) (27399 93%) 0.0356\n",
      "49m 57s (- 3m 22s) (27499 93%) 0.0336\n",
      "50m 10s (- 3m 11s) (27599 94%) 0.0342\n",
      "50m 24s (- 3m 0s) (27699 94%) 0.0326\n",
      "50m 37s (- 2m 49s) (27799 94%) 0.0348\n",
      "50m 50s (- 2m 39s) (27899 95%) 0.0348\n",
      "51m 4s (- 2m 28s) (27999 95%) 0.0329\n",
      "51m 17s (- 2m 17s) (28099 95%) 0.0342\n",
      "51m 31s (- 2m 6s) (28199 96%) 0.0348\n",
      "51m 44s (- 1m 55s) (28299 96%) 0.0333\n",
      "51m 58s (- 1m 44s) (28399 96%) 0.0325\n",
      "52m 11s (- 1m 33s) (28499 97%) 0.0348\n",
      "52m 25s (- 1m 23s) (28599 97%) 0.0343\n",
      "52m 38s (- 1m 12s) (28699 97%) 0.0341\n",
      "52m 52s (- 1m 1s) (28799 98%) 0.0346\n",
      "53m 5s (- 0m 50s) (28899 98%) 0.0344\n",
      "53m 19s (- 0m 39s) (28999 98%) 0.0324\n",
      "53m 32s (- 0m 28s) (29099 99%) 0.0324\n",
      "53m 46s (- 0m 17s) (29199 99%) 0.0352\n",
      "53m 59s (- 0m 6s) (29299 99%) 0.0318\n",
      "train Loss: 0.0357\n",
      "54m 9s (- 108m 2s) (99 33%) 0.0520\n",
      "54m 10s (- 26m 32s) (199 67%) 0.0305\n",
      "val Loss: 0.0329\n",
      "\n",
      "Training complete in 54m 12s\n"
     ]
    },
    {
     "data": {
      "text/plain": [
       "RegressionNeural(\n",
       "  (name_embedding): Embedding(162417, 50)\n",
       "  (item_embedding): Embedding(162417, 50)\n",
       "  (brand_embedding): Embedding(5290, 10)\n",
       "  (gencat_embedding): Embedding(11, 10)\n",
       "  (subcat1_embedding): Embedding(114, 10)\n",
       "  (subcat2_embedding): Embedding(883, 10)\n",
       "  (condition_embedding): Embedding(6, 5)\n",
       "  (catname_embedding): Embedding(1311, 10)\n",
       "  (conv1_name): Conv1d(50, 1, kernel_size=(2,), stride=(1,))\n",
       "  (conv1_item_desc): Conv1d(50, 1, kernel_size=(5,), stride=(5,))\n",
       "  (dropout): Dropout(p=0.2)\n",
       "  (fc1): Linear(in_features=50, out_features=64, bias=True)\n",
       "  (fc2): Linear(in_features=64, out_features=32, bias=True)\n",
       "  (fc3): Linear(in_features=32, out_features=1, bias=True)\n",
       "  (relu): ReLU()\n",
       ")"
      ]
     },
     "execution_count": 139,
     "metadata": {},
     "output_type": "execute_result"
    }
   ],
   "source": [
    "criterion = nn.MSELoss()\n",
    "\n",
    "optimizer_ft = optim.SGD(deep_learn_model.parameters(), lr=0.001, momentum=0.9)\n",
    "#optimizer_ft = optim.SGD(deep_learn_model.parameters(), lr=0.005)\n",
    "\n",
    "# Decay LR by a factor of 0.1 every 7 epochs\n",
    "#exp_lr_scheduler = lr_scheduler.StepLR(optimizer_ft, step_size=7, gamma=0.1)\n",
    "train_model(deep_learn_model,criterion,optimizer_ft)"
   ]
  },
  {
   "cell_type": "code",
   "execution_count": 131,
   "metadata": {},
   "outputs": [
    {
     "data": {
      "text/plain": [
       "<bound method Module.forward of RegressionNeural(\n",
       "  (name_embedding): Embedding(162417, 50)\n",
       "  (item_embedding): Embedding(162417, 50)\n",
       "  (brand_embedding): Embedding(5290, 10)\n",
       "  (gencat_embedding): Embedding(11, 10)\n",
       "  (subcat1_embedding): Embedding(114, 10)\n",
       "  (subcat2_embedding): Embedding(883, 10)\n",
       "  (condition_embedding): Embedding(6, 5)\n",
       "  (catname_embedding): Embedding(1311, 10)\n",
       "  (conv1_name): Conv1d(50, 1, kernel_size=(2,), stride=(1,))\n",
       "  (conv1_item_desc): Conv1d(50, 1, kernel_size=(5,), stride=(5,))\n",
       "  (dropout): Dropout(p=0.2)\n",
       "  (fc1): Linear(in_features=50, out_features=64, bias=True)\n",
       "  (fc2): Linear(in_features=64, out_features=32, bias=True)\n",
       "  (fc3): Linear(in_features=32, out_features=1, bias=True)\n",
       "  (relu): ReLU()\n",
       ")>"
      ]
     },
     "execution_count": 131,
     "metadata": {},
     "output_type": "execute_result"
    }
   ],
   "source": [
    "deep_learn_model.forward()"
   ]
  },
  {
   "cell_type": "code",
   "execution_count": 141,
   "metadata": {
    "collapsed": true
   },
   "outputs": [],
   "source": [
    "# Validate the model results against validation data\n",
    "def validate(model, print_every = 20, phase = 'val'):\n",
    "    start = time.time()\n",
    "    running_loss = 0\n",
    "    print_loss_total = 0\n",
    "    num_batches = dataset_sizes[phase]/50.\n",
    "    y_pred_full = np.array([])\n",
    "    y_true_full = np.array([])\n",
    "    for i_batch, sample_batched in enumerate(mercari_dataloaders[phase]): \n",
    "    # get the inputs\n",
    "        inputs = {'name':Variable(sample_batched['name']), 'item_desc':Variable(sample_batched['item_desc']), \\\n",
    "            'brand_name':Variable(sample_batched['brand_name']), \\\n",
    "            'cat_name':Variable(sample_batched['cat_name']), \\\n",
    "            'general_category':Variable(sample_batched['general_category']), \\\n",
    "            'subcat1_category':Variable(sample_batched['subcat1_category']), \\\n",
    "            'subcat2_category':Variable(sample_batched['subcat2_category']), \\\n",
    "            'item_condition':Variable(sample_batched['item_condition']), \\\n",
    "            'shipping':Variable(sample_batched['shipping'].float())}\n",
    "        prices = Variable(sample_batched['target'].float())   \n",
    "        batch_size = len(sample_batched['shipping'])\n",
    "\n",
    "        # forward\n",
    "        outputs = model(inputs,batch_size)\n",
    "        val_preds = target_scaler.inverse_transform(outputs.data.numpy())\n",
    "        val_preds = np.exp(val_preds)-1\n",
    "        val_true =  target_scaler.inverse_transform(prices.data.numpy())\n",
    "        val_true = np.exp(val_true)-1\n",
    "\n",
    "        #mean_absolute_error, mean_squared_log_error\n",
    "        y_true = val_true[:,0]\n",
    "        y_pred = val_preds[:,0]\n",
    "        y_true_full = np.append(y_true_full,y_true)\n",
    "        y_pred_full= np.append(y_pred_full,y_pred)\n",
    "        \n",
    "        loss = criterion(outputs, prices)\n",
    "        #print (\"output size\", val_preds.shape)\n",
    "        #print (\"ypred_full\",len(y_pred_full))\n",
    "\n",
    "        # statistics\n",
    "        running_loss += loss.data[0]\n",
    "        print_loss_total += loss.data[0]\n",
    "        #print(\"loss data shape\", loss.data.size())\n",
    "        #print(\"running loss\", running_loss)\n",
    "        #running_corrects += torch.sum(preds == labels.data)\n",
    "\n",
    "\n",
    "        if (i_batch+1) % print_every == 0:\n",
    "            print_loss_avg = print_loss_total / print_every\n",
    "            print_loss_total = 0\n",
    "            #print (i_batch / num_batches, i_batch, num_batches)\n",
    "            print('%s (%d %d%%) %.4f' % (timeSince(start, i_batch / num_batches), \\\n",
    "                                         i_batch, i_batch / num_batches*100, print_loss_avg))\n",
    "\n",
    "    v_rmsle = rmsle(y_true_full, y_pred_full)\n",
    "    print(\" RMSLE error on dev validate: \"+str(v_rmsle))\n",
    "    print(\"total loss\", running_loss / num_batches ) \n",
    "    return y_pred_full, y_true_full"
   ]
  },
  {
   "cell_type": "code",
   "execution_count": 142,
   "metadata": {},
   "outputs": [
    {
     "name": "stdout",
     "output_type": "stream",
     "text": [
      "0m 0s (- 0m 3s) (19 6%) 0.0322\n",
      "0m 0s (- 0m 3s) (39 13%) 0.0320\n",
      "0m 0s (- 0m 2s) (59 19%) 0.0309\n",
      "0m 0s (- 0m 2s) (79 26%) 0.0300\n",
      "0m 1s (- 0m 2s) (99 33%) 0.0336\n",
      "0m 1s (- 0m 2s) (119 40%) 0.0321\n",
      "0m 1s (- 0m 1s) (139 46%) 0.0340\n",
      "0m 1s (- 0m 1s) (159 53%) 0.0345\n",
      "0m 2s (- 0m 1s) (179 60%) 0.0344\n",
      "0m 2s (- 0m 1s) (199 67%) 0.0324\n",
      "0m 2s (- 0m 0s) (219 73%) 0.0328\n",
      "0m 2s (- 0m 0s) (239 80%) 0.0338\n",
      "0m 3s (- 0m 0s) (259 87%) 0.0343\n",
      "0m 3s (- 0m 0s) (279 94%) 0.0319\n",
      " RMSLE error on dev validate: 0.6896071053650803\n",
      "total loss 0.03295604181779343\n"
     ]
    }
   ],
   "source": [
    "# You can see the RMSE loss on validation data is very poor.  \n",
    "y_pred_val, y_true_val = validate(deep_learn_model)"
   ]
  },
  {
   "cell_type": "code",
   "execution_count": 143,
   "metadata": {
    "collapsed": true
   },
   "outputs": [
    {
     "data": {
      "text/plain": [
       "<matplotlib.collections.PathCollection at 0x167657588>"
      ]
     },
     "execution_count": 143,
     "metadata": {},
     "output_type": "execute_result"
    },
    {
     "data": {
      "image/png": "[encoded data removed]",
      "text/plain": [
       "<matplotlib.figure.Figure at 0x164e26080>"
      ]
     },
     "metadata": {},
     "output_type": "display_data"
    }
   ],
   "source": [
    "axes = plt.gca()\n",
    "axes.set_ylim([0,100])\n",
    "plt.scatter(y_pred_val,y_true_val)"
   ]
  },
  {
   "cell_type": "code",
   "execution_count": 144,
   "metadata": {},
   "outputs": [
    {
     "data": {
      "text/plain": [
       "(19.41588826657435, 26.559826895435794)"
      ]
     },
     "execution_count": 144,
     "metadata": {},
     "output_type": "execute_result"
    }
   ],
   "source": [
    "y_pred_val.mean(),y_true_val.mean()"
   ]
  },
  {
   "cell_type": "code",
   "execution_count": null,
   "metadata": {
    "collapsed": true
   },
   "outputs": [],
   "source": [
    "test_set = MercariDataset(test,transform=transforms.Compose([ToTensor()])\n",
    "test_loader = torch.utils.data.DataLoader(test_set, batch_size=50, shuffle=False) \n"
   ]
  },
  {
   "cell_type": "code",
   "execution_count": null,
   "metadata": {
    "collapsed": true
   },
   "outputs": [],
   "source": [
    "\n",
    "with torch.no_grad():\n",
    "    for data in testloader:\n",
    "        images, labels = data\n",
    "        outputs = net(images)\n",
    "        _, predicted = torch.max(outputs, 1)\n",
    "        c = (predicted == labels).squeeze()\n",
    "        for i in range(4):\n",
    "            label = labels[i]\n",
    "            class_correct[label] += c[i].item()\n",
    "            class_total[label] += 1\n",
    "\n",
    "\n",
    "for i in range(10):\n",
    "    print('Accuracy of %5s : %2d %%' % (\n",
    "        classes[i], 100 * class_correct[i] / class_total[i]))"
   ]
  }
 ],
 "metadata": {
  "kernelspec": {
   "display_name": "Python 3",
   "language": "python",
   "name": "python3"
  },
  "language_info": {
   "codemirror_mode": {
    "name": "ipython",
    "version": 3
   },
   "file_extension": ".py",
   "mimetype": "text/x-python",
   "name": "python",
   "nbconvert_exporter": "python",
   "pygments_lexer": "ipython3",
   "version": "3.6.3"
  }
 },
 "nbformat": 4,
 "nbformat_minor": 2
}
